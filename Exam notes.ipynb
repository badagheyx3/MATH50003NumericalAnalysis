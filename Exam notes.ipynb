{
 "cells": [
  {
   "cell_type": "code",
   "execution_count": 2,
   "id": "aae17b97",
   "metadata": {},
   "outputs": [
    {
     "ename": "LoadError",
     "evalue": "InexactError: trunc(Int8, 11111110)",
     "output_type": "error",
     "traceback": [
      "InexactError: trunc(Int8, 11111110)",
      "",
      "Stacktrace:",
      " [1] throw_inexacterror(f::Symbol, #unused#::Type{Int8}, val::Int64)",
      "   @ Core ./boot.jl:614",
      " [2] checked_trunc_sint",
      "   @ ./boot.jl:636 [inlined]",
      " [3] toInt8",
      "   @ ./boot.jl:651 [inlined]",
      " [4] Int8(x::Int64)",
      "   @ Core ./boot.jl:761",
      " [5] top-level scope",
      "   @ In[2]:1"
     ]
    }
   ],
   "source": [
    "Int8(011111110)"
   ]
  },
  {
   "cell_type": "code",
   "execution_count": 3,
   "id": "b4424be6",
   "metadata": {},
   "outputs": [
    {
     "data": {
      "text/plain": [
       "+ (generic function with 207 methods)"
      ]
     },
     "execution_count": 3,
     "metadata": {},
     "output_type": "execute_result"
    }
   ],
   "source": [
    "struct Ball\n",
    "    x::Float64\n",
    "    b::Float64 # bound on the neighbourhood |δ| ≤ b\n",
    "end\n",
    "\n",
    "import Base: +, *\n",
    "\n",
    "function +(A::Ball, B::Ball)\n",
    "    # TODO: Return a Ball whose centre is `A.x + B.x` (computed with default rounding)\n",
    "    # and whose neighbourhood size precisely equals the bound from rounding the centre\n",
    "    # plus the sum of `A.b + B.b` rounded up.\n",
    "    Ball(A.x + B.x, setrounding(Big(A.b + B.b), RoundUp))\n",
    "    \n",
    "end"
   ]
  },
  {
   "cell_type": "code",
   "execution_count": 7,
   "id": "58366090",
   "metadata": {},
   "outputs": [
    {
     "ename": "LoadError",
     "evalue": "UndefVarError: Big not defined",
     "output_type": "error",
     "traceback": [
      "UndefVarError: Big not defined",
      "",
      "Stacktrace:",
      " [1] +(A::Ball, B::Ball)",
      "   @ Main ./In[3]:12",
      " [2] top-level scope",
      "   @ In[7]:1"
     ]
    }
   ],
   "source": [
    "Ball(2.0 ^ -5, 2.0 ^ -10) + Ball(2.0 ^ -4, 2.0 ^ -11)"
   ]
  },
  {
   "cell_type": "code",
   "execution_count": 6,
   "id": "88ec744c",
   "metadata": {},
   "outputs": [],
   "source": [
    "using LinearAlgebra, SetRounding"
   ]
  },
  {
   "cell_type": "code",
   "execution_count": null,
   "id": "aff96f3d",
   "metadata": {},
   "outputs": [],
   "source": []
  }
 ],
 "metadata": {
  "kernelspec": {
   "display_name": "Julia 1.8.5",
   "language": "julia",
   "name": "julia-1.8"
  },
  "language_info": {
   "file_extension": ".jl",
   "mimetype": "application/julia",
   "name": "julia",
   "version": "1.8.5"
  }
 },
 "nbformat": 4,
 "nbformat_minor": 5
}
