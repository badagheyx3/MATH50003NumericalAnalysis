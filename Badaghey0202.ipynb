{
 "cells": [
  {
   "cell_type": "markdown",
   "id": "983a6de2",
   "metadata": {},
   "source": [
    "# Julia Q&A"
   ]
  },
  {
   "cell_type": "code",
   "execution_count": 1,
   "id": "00f50607",
   "metadata": {},
   "outputs": [],
   "source": [
    "using ColorBitstring, Plots"
   ]
  },
  {
   "cell_type": "code",
   "execution_count": 6,
   "id": "a7f9e584",
   "metadata": {},
   "outputs": [
    {
     "data": {
      "text/plain": [
       "f (generic function with 3 methods)"
      ]
     },
     "execution_count": 6,
     "metadata": {},
     "output_type": "execute_result"
    }
   ],
   "source": [
    "# f is a function each of these below are methods\n",
    "\n",
    "# Functions can have different implementations for different types\n",
    "function f(x)\n",
    "    \"hello\"\n",
    "end\n",
    "\n",
    "# most specialised function gets called if any ambiguity\n",
    "function f(x::Float64)\n",
    "    \"goodbye\"\n",
    "end\n",
    "\n",
    "function f(x::Int)\n",
    "    \"badaghey\"\n",
    "end"
   ]
  },
  {
   "cell_type": "code",
   "execution_count": 7,
   "id": "5dc03c06",
   "metadata": {},
   "outputs": [
    {
     "data": {
      "text/plain": [
       "(\"badaghey\", \"goodbye\", \"hello\")"
      ]
     },
     "execution_count": 7,
     "metadata": {},
     "output_type": "execute_result"
    }
   ],
   "source": [
    "f(4), f(5.6), f(\"goodbye\")"
   ]
  },
  {
   "cell_type": "code",
   "execution_count": 9,
   "id": "93ca4a90",
   "metadata": {},
   "outputs": [
    {
     "data": {
      "text/plain": [
       "true"
      ]
     },
     "execution_count": 9,
     "metadata": {},
     "output_type": "execute_result"
    }
   ],
   "source": [
    "5 isa Int # tells us if something is a certain type"
   ]
  },
  {
   "cell_type": "code",
   "execution_count": 11,
   "id": "d4653db5",
   "metadata": {},
   "outputs": [
    {
     "data": {
      "text/plain": [
       "f_ex (generic function with 1 method)"
      ]
     },
     "execution_count": 11,
     "metadata": {},
     "output_type": "execute_result"
    }
   ],
   "source": [
    "# equivalently to\n",
    "function f_ex(x)\n",
    "    if x isa Int\n",
    "        \"badaghey\"\n",
    "    elseif x isa Float64\n",
    "        \"goodbye\"\n",
    "    else # x isa Any\n",
    "        \"hello\"\n",
    "    end\n",
    "end"
   ]
  },
  {
   "cell_type": "code",
   "execution_count": 12,
   "id": "6c57b095",
   "metadata": {},
   "outputs": [
    {
     "data": {
      "text/plain": [
       "true"
      ]
     },
     "execution_count": 12,
     "metadata": {},
     "output_type": "execute_result"
    }
   ],
   "source": [
    "5 isa Any"
   ]
  },
  {
   "cell_type": "code",
   "execution_count": null,
   "id": "2f9351cd",
   "metadata": {},
   "outputs": [],
   "source": []
  }
 ],
 "metadata": {
  "kernelspec": {
   "display_name": "Julia 1.8.5",
   "language": "julia",
   "name": "julia-1.8"
  },
  "language_info": {
   "file_extension": ".jl",
   "mimetype": "application/julia",
   "name": "julia",
   "version": "1.8.5"
  }
 },
 "nbformat": 4,
 "nbformat_minor": 5
}
