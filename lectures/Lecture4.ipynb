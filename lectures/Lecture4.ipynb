{
 "cells": [
  {
   "cell_type": "code",
   "execution_count": 1,
   "id": "9303585e",
   "metadata": {
    "scrolled": true
   },
   "outputs": [
    {
     "data": {
      "text/plain": [
       "4.0"
      ]
     },
     "execution_count": 1,
     "metadata": {},
     "output_type": "execute_result"
    }
   ],
   "source": [
    "# Lets try divided differences on a simple\n",
    "# example\n",
    "\n",
    "f = exp\n",
    "f′ = exp\n",
    "\n",
    "\n",
    "# want to compute f′(x) = f′(1) (= ℯ)\n",
    "x = 1\n",
    "\n",
    "# try a very small h\n",
    "h = 2.0^(-52)\n",
    "(f(x+h) - f(x))/h # FAIL! 4 ≠ ℯ"
   ]
  },
  {
   "cell_type": "code",
   "execution_count": 2,
   "id": "578a07b3",
   "metadata": {},
   "outputs": [
    {
     "data": {
      "text/plain": [
       "5.156205018508331e-8"
      ]
     },
     "execution_count": 2,
     "metadata": {},
     "output_type": "execute_result"
    }
   ],
   "source": [
    "# Making h _bigger_ somewhat succeeds (??):\n",
    "h = 2.0^(-25)\n",
    "(f(x+h) - f(x))/h - ℯ # accurate to roughly 8 digits"
   ]
  },
  {
   "cell_type": "code",
   "execution_count": 3,
   "id": "4337d1f5",
   "metadata": {
    "scrolled": true
   },
   "outputs": [
    {
     "ename": "LoadError",
     "evalue": "ArgumentError: Package Plots [91a5bcdd-55d7-5caf-9e0b-520d859cae80] is required but does not seem to be installed:\n - Run `Pkg.instantiate()` to install all recorded dependencies.\n",
     "output_type": "error",
     "traceback": [
      "ArgumentError: Package Plots [91a5bcdd-55d7-5caf-9e0b-520d859cae80] is required but does not seem to be installed:\n - Run `Pkg.instantiate()` to install all recorded dependencies.\n",
      "",
      "Stacktrace:",
      " [1] _require(pkg::Base.PkgId)",
      "   @ Base ./loading.jl:1306",
      " [2] _require_prelocked(uuidkey::Base.PkgId)",
      "   @ Base ./loading.jl:1200",
      " [3] macro expansion",
      "   @ ./loading.jl:1180 [inlined]",
      " [4] macro expansion",
      "   @ ./lock.jl:223 [inlined]",
      " [5] require(into::Module, mod::Symbol)",
      "   @ Base ./loading.jl:1144"
     ]
    }
   ],
   "source": [
    "# Lets plot the error as a function of h\n",
    "using Plots\n",
    "\n",
    "h = [2.0^k for k=0:-1:-60] # h = [1,1/2,1/4,…,1/2^(-60)]\n",
    "\n",
    "# starts converging.... then starts diverging\n",
    "plot((abs.((f.(x .+ h) .- f(x))./h .- f′(x))); yscale=:log10)\n",
    "\n",
    "# next lecture we will explain this by bounding the error"
   ]
  },
  {
   "cell_type": "code",
   "execution_count": null,
   "id": "a6e36525",
   "metadata": {},
   "outputs": [],
   "source": []
  }
 ],
 "metadata": {
  "@webio": {
   "lastCommId": null,
   "lastKernelId": null
  },
  "kernelspec": {
   "display_name": "Julia 1.8.5",
   "language": "julia",
   "name": "julia-1.8"
  },
  "language_info": {
   "file_extension": ".jl",
   "mimetype": "application/julia",
   "name": "julia",
   "version": "1.8.5"
  }
 },
 "nbformat": 4,
 "nbformat_minor": 5
}
