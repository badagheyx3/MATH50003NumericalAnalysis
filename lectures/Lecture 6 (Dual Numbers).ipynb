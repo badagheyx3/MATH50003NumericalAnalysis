{
 "cells": [
  {
   "cell_type": "markdown",
   "id": "d6900dd8",
   "metadata": {},
   "source": [
    "# Lecture 6 03/02"
   ]
  },
  {
   "cell_type": "markdown",
   "id": "4febe4ff",
   "metadata": {},
   "source": [
    "## couldn't get some stuff down cos he did it too fast"
   ]
  },
  {
   "cell_type": "markdown",
   "id": "af6cb1b4",
   "metadata": {},
   "source": [
    "Dual numbers are $a + b\\epsilon$ where $\\epsilon^{2} = 0$"
   ]
  },
  {
   "cell_type": "markdown",
   "id": "343d2006",
   "metadata": {},
   "source": [
    "**Forward-mode automatic differentiation**"
   ]
  },
  {
   "cell_type": "code",
   "execution_count": 17,
   "id": "06f72dbf",
   "metadata": {},
   "outputs": [
    {
     "data": {
      "text/plain": [
       "exp_t (generic function with 1 method)"
      ]
     },
     "execution_count": 17,
     "metadata": {},
     "output_type": "execute_result"
    }
   ],
   "source": [
    "# user Taylor series exp(x)\n",
    "function exp_t(x, n)\n",
    "    ret = 0\n",
    "    summand = 1\n",
    "    for k = 0:n\n",
    "        ret += summand\n",
    "        summand *= x/(k+1) # uses Float64 arithmetic\n",
    "    end\n",
    "    return ret\n",
    "end\n"
   ]
  },
  {
   "cell_type": "code",
   "execution_count": 18,
   "id": "83b24547",
   "metadata": {},
   "outputs": [
    {
     "data": {
      "text/plain": [
       "1 + 2im"
      ]
     },
     "execution_count": 18,
     "metadata": {},
     "output_type": "execute_result"
    }
   ],
   "source": [
    "# complex number in Julia\n",
    "im^2 # this is i, i.e., im^2\n",
    "\n",
    "z = 1 + 2im # this means 1+ 2i"
   ]
  },
  {
   "cell_type": "code",
   "execution_count": 19,
   "id": "5b85e882",
   "metadata": {},
   "outputs": [
    {
     "data": {
      "text/plain": [
       "(1, 2)"
      ]
     },
     "execution_count": 19,
     "metadata": {},
     "output_type": "execute_result"
    }
   ],
   "source": [
    "z = Complex(1, 2) # same as 1 + 2im\n",
    "z.re, z.im"
   ]
  },
  {
   "cell_type": "code",
   "execution_count": 20,
   "id": "cf785715",
   "metadata": {},
   "outputs": [
    {
     "data": {
      "text/plain": [
       "-3 + 4im"
      ]
     },
     "execution_count": 20,
     "metadata": {},
     "output_type": "execute_result"
    }
   ],
   "source": [
    "z * z"
   ]
  },
  {
   "cell_type": "code",
   "execution_count": 21,
   "id": "9a091734",
   "metadata": {},
   "outputs": [
    {
     "data": {
      "text/plain": [
       "1.4 + 2.0im"
      ]
     },
     "execution_count": 21,
     "metadata": {},
     "output_type": "execute_result"
    }
   ],
   "source": [
    "z = 1.4 + 2im"
   ]
  },
  {
   "cell_type": "code",
   "execution_count": 22,
   "id": "c753fbae",
   "metadata": {},
   "outputs": [
    {
     "data": {
      "text/plain": [
       "ComplexF64\u001b[90m (alias for \u001b[39m\u001b[90mComplex{Float64}\u001b[39m\u001b[90m)\u001b[39m"
      ]
     },
     "execution_count": 22,
     "metadata": {},
     "output_type": "execute_result"
    }
   ],
   "source": [
    "typeof(z)"
   ]
  },
  {
   "cell_type": "code",
   "execution_count": 23,
   "id": "4c5239f8",
   "metadata": {},
   "outputs": [
    {
     "ename": "LoadError",
     "evalue": "error in method definition: function Base.* must be explicitly imported to be extended",
     "output_type": "error",
     "traceback": [
      "error in method definition: function Base.* must be explicitly imported to be extended",
      "",
      "Stacktrace:",
      " [1] top-level scope",
      "   @ none:0",
      " [2] top-level scope",
      "   @ In[23]:14"
     ]
    }
   ],
   "source": [
    "# Dual(a,b) represents a + b*$\\epsilon$\n",
    "struct Dual{T}\n",
    "    a::T # this means a is type T,usually Float64\n",
    "    b::T\n",
    "end\n",
    "\n",
    "# const means the same the variable cannot\n",
    "const ϵ = Dual(0,1)\n",
    "\n",
    "# overload show to change the display (non-examinable)\n",
    "show(io::IO, x::Dual) = print(io, string(x.a) * \" + \" * string(x.b) * \"ϵ\")\n",
    "\n",
    "/(x::Dual, y::Real) = Dual(x.a/y,x.b/y)\n",
    "*(x::Real, y::Dual) = Dual(x*y.a, x*y.b)\n",
    "+(x::Real, y::Dual) = Dual(x+y.a, y.b)\n",
    "\n",
    "*(x::Dual, y::Dual) = Dual(x.a*y.a, x.b*y.a, x.a*y.b)"
   ]
  },
  {
   "cell_type": "code",
   "execution_count": 24,
   "id": "b864c8a3",
   "metadata": {},
   "outputs": [
    {
     "ename": "LoadError",
     "evalue": "MethodError: no method matching /(::Float64, ::Int64)\nYou may have intended to import Base.:/\n\u001b[0mClosest candidates are:\n\u001b[0m  /(\u001b[91m::Dual\u001b[39m, ::Real) at In[23]:13",
     "output_type": "error",
     "traceback": [
      "MethodError: no method matching /(::Float64, ::Int64)\nYou may have intended to import Base.:/\n\u001b[0mClosest candidates are:\n\u001b[0m  /(\u001b[91m::Dual\u001b[39m, ::Real) at In[23]:13",
      "",
      "Stacktrace:",
      " [1] /(x::Dual{Float64}, y::Int64)",
      "   @ Main ./In[23]:13",
      " [2] exp_t(x::Dual{Float64}, n::Int64)",
      "   @ Main ./In[17]:7",
      " [3] top-level scope",
      "   @ In[24]:1"
     ]
    }
   ],
   "source": [
    "exp_t(Dual(1.0,1.0), 50)"
   ]
  },
  {
   "cell_type": "code",
   "execution_count": 26,
   "id": "6ed9e9e0",
   "metadata": {},
   "outputs": [
    {
     "ename": "LoadError",
     "evalue": "MethodError: no method matching +(::Int64, ::Dual{Int64})\n\u001b[0mClosest candidates are:\n\u001b[0m  +(::Any, ::Any, \u001b[91m::Any\u001b[39m, \u001b[91m::Any...\u001b[39m) at operators.jl:591\n\u001b[0m  +(::T, \u001b[91m::T\u001b[39m) where T<:Union{Int128, Int16, Int32, Int64, Int8, UInt128, UInt16, UInt32, UInt64, UInt8} at int.jl:87\n\u001b[0m  +(::Union{Int16, Int32, Int64, Int8}, \u001b[91m::BigInt\u001b[39m) at gmp.jl:537\n\u001b[0m  ...",
     "output_type": "error",
     "traceback": [
      "MethodError: no method matching +(::Int64, ::Dual{Int64})\n\u001b[0mClosest candidates are:\n\u001b[0m  +(::Any, ::Any, \u001b[91m::Any\u001b[39m, \u001b[91m::Any...\u001b[39m) at operators.jl:591\n\u001b[0m  +(::T, \u001b[91m::T\u001b[39m) where T<:Union{Int128, Int16, Int32, Int64, Int8, UInt128, UInt16, UInt32, UInt64, UInt8} at int.jl:87\n\u001b[0m  +(::Union{Int16, Int32, Int64, Int8}, \u001b[91m::BigInt\u001b[39m) at gmp.jl:537\n\u001b[0m  ...",
      "",
      "Stacktrace:",
      " [1] top-level scope",
      "   @ In[26]:1"
     ]
    }
   ],
   "source": [
    "exp(1+ϵ)"
   ]
  },
  {
   "cell_type": "code",
   "execution_count": null,
   "id": "0e273acb",
   "metadata": {},
   "outputs": [],
   "source": []
  }
 ],
 "metadata": {
  "kernelspec": {
   "display_name": "Julia 1.8.5",
   "language": "julia",
   "name": "julia-1.8"
  },
  "language_info": {
   "file_extension": ".jl",
   "mimetype": "application/julia",
   "name": "julia",
   "version": "1.8.5"
  }
 },
 "nbformat": 4,
 "nbformat_minor": 5
}
