{
 "cells": [
  {
   "cell_type": "markdown",
   "metadata": {},
   "source": [
    "# A. Introduction to Julia\n",
    "\n",
    "References: [The Julia Documentation](https://docs.julialang.org), [The Julia–Matlab–Python Cheatsheet](https://cheatsheets.quantecon.org), \n",
    "[Think Julia](https://benlauwens.github.io/ThinkJulia.jl/latest/book)\n",
    "\n",
    "These notes give an overview of Julia. \n",
    "In these notes we focus on the aspects of Julia and computing that are essential to numerical computing:\n",
    "\n",
    "\n",
    "1. Integers: We discuss briefly how to create and manipulate integers, and how to see the underlying bit representation.\n",
    "1. Strings and parsing: We discuss how to create and manipulate strings and characters, and how we can convert a string\n",
    "of 0's and 1's to an integer or other type.\n",
    "3. Vectors and matrices: We discuss how to build and manipulate vectors and matrices (which are both types of _arrays_).\n",
    "Later lectures will discuss linear algebra.\n",
    "4. Types: In Julia everything has a type, which plays a similar role to classes in Python. Here we \n",
    "discuss how to make new types, for example, a complex number in radial format.\n",
    "5. Loops and branches: We discuss `if`, `for` and `while`, which work similar to Python.\n",
    "6. Functions: We discuss the construction of named and anonymous functions.\n",
    "Julia allows overloading functions for different types, for example, we can overload `*` for \n",
    "our radial complex type.\n",
    "7. Modules, Packages, and Plotting: We discuss how to load external packages, in particular, for plotting.\n",
    "\n",
    "\n",
    "## 1. Integers\n",
    "\n",
    "Julia uses a math-like syntax for manipulating integers:"
   ]
  },
  {
   "cell_type": "code",
   "execution_count": 1,
   "metadata": {
    "execution": {
     "iopub.execute_input": "2023-01-10T11:12:56.874818Z",
     "iopub.status.busy": "2023-01-10T11:12:56.253080Z",
     "iopub.status.idle": "2023-01-10T11:12:57.637112Z",
     "shell.execute_reply": "2023-01-10T11:12:57.636530Z"
    }
   },
   "outputs": [
    {
     "data": {
      "text/plain": [
       "2"
      ]
     },
     "execution_count": 1,
     "metadata": {},
     "output_type": "execute_result"
    }
   ],
   "source": [
    "1 + 1 # Addition"
   ]
  },
  {
   "cell_type": "code",
   "execution_count": 2,
   "metadata": {
    "execution": {
     "iopub.execute_input": "2023-01-10T11:12:57.639531Z",
     "iopub.status.busy": "2023-01-10T11:12:57.638668Z",
     "iopub.status.idle": "2023-01-10T11:12:57.641370Z",
     "shell.execute_reply": "2023-01-10T11:12:57.640139Z"
    }
   },
   "outputs": [
    {
     "data": {
      "text/plain": [
       "6"
      ]
     },
     "execution_count": 2,
     "metadata": {},
     "output_type": "execute_result"
    }
   ],
   "source": [
    "2 * 3 # Multiplication"
   ]
  },
  {
   "cell_type": "code",
   "execution_count": 3,
   "metadata": {
    "execution": {
     "iopub.execute_input": "2023-01-10T11:12:57.643914Z",
     "iopub.status.busy": "2023-01-10T11:12:57.643142Z",
     "iopub.status.idle": "2023-01-10T11:12:57.886886Z",
     "shell.execute_reply": "2023-01-10T11:12:57.886418Z"
    }
   },
   "outputs": [
    {
     "data": {
      "text/plain": [
       "0.6666666666666666"
      ]
     },
     "execution_count": 3,
     "metadata": {},
     "output_type": "execute_result"
    }
   ],
   "source": [
    "2 / 3 # Division"
   ]
  },
  {
   "cell_type": "code",
   "execution_count": 4,
   "metadata": {
    "execution": {
     "iopub.execute_input": "2023-01-10T11:12:57.889294Z",
     "iopub.status.busy": "2023-01-10T11:12:57.888562Z",
     "iopub.status.idle": "2023-01-10T11:12:57.895104Z",
     "shell.execute_reply": "2023-01-10T11:12:57.894506Z"
    }
   },
   "outputs": [
    {
     "data": {
      "text/plain": [
       "25"
      ]
     },
     "execution_count": 4,
     "metadata": {},
     "output_type": "execute_result"
    }
   ],
   "source": [
    "x = 5; # semicolon is optional but supresses output if used in the last line\n",
    "x^2 # Powers"
   ]
  },
  {
   "cell_type": "markdown",
   "metadata": {},
   "source": [
    "In Julia everything has a type. This is similar in spirit to\n",
    "a class in Python, but much more lightweight.\n",
    "An integer defaults to a type `Int`,\n",
    "which is either 32-bit (`Int32`) or 64-bit (`Int64`) depending\n",
    "on the processor of the machine. There are also 8-bit (`Int8`), 16-bit (`Int16`), \n",
    "and 128-bit (`Int128`) integer types, which\n",
    "we can construct by converting an `Int`, e.g. `Int8(3)`.\n",
    "\n",
    "These are all \"primitive types\", instances of the type are stored in memory as\n",
    "a fixed length sequence of bits.\n",
    "We can find the type of a variable as follows:"
   ]
  },
  {
   "cell_type": "code",
   "execution_count": 5,
   "metadata": {
    "execution": {
     "iopub.execute_input": "2023-01-10T11:12:57.897298Z",
     "iopub.status.busy": "2023-01-10T11:12:57.896680Z",
     "iopub.status.idle": "2023-01-10T11:12:58.385492Z",
     "shell.execute_reply": "2023-01-10T11:12:58.385057Z"
    }
   },
   "outputs": [
    {
     "data": {
      "text/plain": [
       "Int64"
      ]
     },
     "execution_count": 5,
     "metadata": {},
     "output_type": "execute_result"
    }
   ],
   "source": [
    "typeof(x)"
   ]
  },
  {
   "cell_type": "markdown",
   "metadata": {},
   "source": [
    "For a primitive type we can see the bits using the function `bitstring`:"
   ]
  },
  {
   "cell_type": "code",
   "execution_count": 6,
   "metadata": {
    "execution": {
     "iopub.execute_input": "2023-01-10T11:12:58.387919Z",
     "iopub.status.busy": "2023-01-10T11:12:58.387110Z",
     "iopub.status.idle": "2023-01-10T11:12:58.983791Z",
     "shell.execute_reply": "2023-01-10T11:12:58.983319Z"
    }
   },
   "outputs": [
    {
     "data": {
      "text/plain": [
       "\"00000001\""
      ]
     },
     "execution_count": 6,
     "metadata": {},
     "output_type": "execute_result"
    }
   ],
   "source": [
    "bitstring(Int8(1))"
   ]
  },
  {
   "cell_type": "markdown",
   "metadata": {},
   "source": [
    "Negative numbers may be surprising:"
   ]
  },
  {
   "cell_type": "code",
   "execution_count": 7,
   "metadata": {
    "execution": {
     "iopub.execute_input": "2023-01-10T11:12:58.985862Z",
     "iopub.status.busy": "2023-01-10T11:12:58.985260Z",
     "iopub.status.idle": "2023-01-10T11:12:58.991071Z",
     "shell.execute_reply": "2023-01-10T11:12:58.990602Z"
    }
   },
   "outputs": [
    {
     "data": {
      "text/plain": [
       "\"11111111\""
      ]
     },
     "execution_count": 7,
     "metadata": {},
     "output_type": "execute_result"
    }
   ],
   "source": [
    "bitstring(-Int8(1))"
   ]
  },
  {
   "cell_type": "markdown",
   "metadata": {},
   "source": [
    "This is explained in detail in Chapter [Numbers](Numbers.ipynb).\n",
    "\n",
    "There are other primitive integer types:  `UInt8`, `UInt16`, `UInt32`, and `UInt64` are unsigned integers, \n",
    "e.g., we do not interpret\n",
    "the number as negative if the first bit is `1`. As they tend to be used to represent\n",
    "bit sequences they are displayed in hexadecimal, that is base-16, using digits 0-9a-c,\n",
    "e.g., $12 = (c)_{16}$:"
   ]
  },
  {
   "cell_type": "code",
   "execution_count": 8,
   "metadata": {
    "execution": {
     "iopub.execute_input": "2023-01-10T11:12:58.994234Z",
     "iopub.status.busy": "2023-01-10T11:12:58.993374Z",
     "iopub.status.idle": "2023-01-10T11:12:59.244508Z",
     "shell.execute_reply": "2023-01-10T11:12:59.243823Z"
    }
   },
   "outputs": [
    {
     "data": {
      "text/plain": [
       "0x000c"
      ]
     },
     "execution_count": 8,
     "metadata": {},
     "output_type": "execute_result"
    }
   ],
   "source": [
    "UInt16(12)"
   ]
  },
  {
   "cell_type": "markdown",
   "metadata": {},
   "source": [
    "A non-primitive type is `BigInt` which allows arbitrary length\n",
    "integers (using an arbitrary amount of memory):"
   ]
  },
  {
   "cell_type": "code",
   "execution_count": 9,
   "metadata": {
    "execution": {
     "iopub.execute_input": "2023-01-10T11:12:59.247327Z",
     "iopub.status.busy": "2023-01-10T11:12:59.246731Z",
     "iopub.status.idle": "2023-01-10T11:12:59.543527Z",
     "shell.execute_reply": "2023-01-10T11:12:59.543081Z"
    }
   },
   "outputs": [
    {
     "data": {
      "text/plain": [
       "50122941178162376974966091345744043824142323201220032246889321108612601370489453944334430916397479165903485236599525080606201168657824659978673523219882180459703980678236413710435630262250999945851247144545973001956342677142814216928598678706821457929552134149893949211827564255485841326119414308649026893120919175159812964216657108186726980086662359654642205416738833556320950628298308266779128339957598989922720249926653819482095363862585334485979067087686135178933607726949314290075315756468816811470820488642103255015693356728664395019010668251140812130604764860416191732870734313839878454242349760498139449359816628604808197950890700598887913238648743720669880431624605190714785070488903142280154248030865888303144670526814316283642827048194691761656002994284262391015531353151378522813435626636612011654332623404865477950133270663492812918847748638884711209829931751153853540142327316120415269309973350785257070155577805973147327514471253922441691464477041369674154703265060538575927198652812397226459798151718089364958964261966279405937681599711492675167815646770527100565788620310303488674586998681676316875542465063054326827178329900821110034774167597054280636897299431461108991091630394370625849266239769971848520585688392654484701125057255972152749333123510089574445139832723491998167869188415548595944095415607117548449720958976000000000000000000000000000000000000000000000000000000000000000000000000000000000000000000000000000000000000000000000000000000000000000000000000000000000000000000000000000000000000000000000000000000000000000000000000000000000000000000000000"
      ]
     },
     "execution_count": 9,
     "metadata": {},
     "output_type": "execute_result"
    }
   ],
   "source": [
    "factorial(big(100))^10"
   ]
  },
  {
   "cell_type": "markdown",
   "metadata": {},
   "source": [
    "## 2. Strings and parsing\n",
    "\n",
    "We have seen that `bitstring` returns a string of bits.\n",
    "Strings can be created with quotation marks"
   ]
  },
  {
   "cell_type": "code",
   "execution_count": 10,
   "metadata": {
    "execution": {
     "iopub.execute_input": "2023-01-10T11:12:59.546053Z",
     "iopub.status.busy": "2023-01-10T11:12:59.545118Z",
     "iopub.status.idle": "2023-01-10T11:12:59.548070Z",
     "shell.execute_reply": "2023-01-10T11:12:59.547509Z"
    }
   },
   "outputs": [
    {
     "data": {
      "text/plain": [
       "\"hello world 😀\""
      ]
     },
     "execution_count": 10,
     "metadata": {},
     "output_type": "execute_result"
    }
   ],
   "source": [
    "str = \"hello world 😀\""
   ]
  },
  {
   "cell_type": "markdown",
   "metadata": {},
   "source": [
    "We can access characters of a string with brackets:"
   ]
  },
  {
   "cell_type": "code",
   "execution_count": 11,
   "metadata": {
    "execution": {
     "iopub.execute_input": "2023-01-10T11:12:59.550151Z",
     "iopub.status.busy": "2023-01-10T11:12:59.549591Z",
     "iopub.status.idle": "2023-01-10T11:12:59.934920Z",
     "shell.execute_reply": "2023-01-10T11:12:59.934486Z"
    }
   },
   "outputs": [
    {
     "data": {
      "text/plain": [
       "('h', '😀')"
      ]
     },
     "execution_count": 11,
     "metadata": {},
     "output_type": "execute_result"
    }
   ],
   "source": [
    "str[1], str[13]"
   ]
  },
  {
   "cell_type": "markdown",
   "metadata": {},
   "source": [
    "Each character is a primitive type, in this case using 32 bits/4 bytes:"
   ]
  },
  {
   "cell_type": "code",
   "execution_count": 12,
   "metadata": {
    "execution": {
     "iopub.execute_input": "2023-01-10T11:12:59.937376Z",
     "iopub.status.busy": "2023-01-10T11:12:59.936613Z",
     "iopub.status.idle": "2023-01-10T11:13:00.261522Z",
     "shell.execute_reply": "2023-01-10T11:13:00.261092Z"
    }
   },
   "outputs": [
    {
     "data": {
      "text/plain": [
       "(Char, 32)"
      ]
     },
     "execution_count": 12,
     "metadata": {},
     "output_type": "execute_result"
    }
   ],
   "source": [
    "typeof(str[6]), length(bitstring(str[6]))"
   ]
  },
  {
   "cell_type": "markdown",
   "metadata": {},
   "source": [
    "Strings are not primitive types, but rather point to the start of a sequence\n",
    "of `Char`s in memory.  In this case, there are $32*13=416$ bits/52\n",
    "bytes in memory.\n",
    "\n",
    "Strings are _immutable_: once created they cannot be changed.\n",
    "But a new string can be created that modifies an existing string.\n",
    "The simplest example is `*`, which concatenates two strings:"
   ]
  },
  {
   "cell_type": "code",
   "execution_count": 13,
   "metadata": {
    "execution": {
     "iopub.execute_input": "2023-01-10T11:13:00.264012Z",
     "iopub.status.busy": "2023-01-10T11:13:00.263174Z",
     "iopub.status.idle": "2023-01-10T11:13:00.265779Z",
     "shell.execute_reply": "2023-01-10T11:13:00.265283Z"
    }
   },
   "outputs": [
    {
     "data": {
      "text/plain": [
       "\"hibye\""
      ]
     },
     "execution_count": 13,
     "metadata": {},
     "output_type": "execute_result"
    }
   ],
   "source": [
    "\"hi\" * \"bye\""
   ]
  },
  {
   "cell_type": "markdown",
   "metadata": {},
   "source": [
    "(Why `*`? Because concatenation is non-commutive.)\n",
    "We can combine this with indexing to, for example, create a new string\n",
    "with a different last character:"
   ]
  },
  {
   "cell_type": "code",
   "execution_count": 14,
   "metadata": {
    "execution": {
     "iopub.execute_input": "2023-01-10T11:13:00.268189Z",
     "iopub.status.busy": "2023-01-10T11:13:00.267324Z",
     "iopub.status.idle": "2023-01-10T11:13:00.269995Z",
     "shell.execute_reply": "2023-01-10T11:13:00.269492Z"
    }
   },
   "outputs": [
    {
     "data": {
      "text/plain": [
       "\"hello world 😂\""
      ]
     },
     "execution_count": 14,
     "metadata": {},
     "output_type": "execute_result"
    }
   ],
   "source": [
    "str[1:end-1] * \"😂\""
   ]
  },
  {
   "cell_type": "markdown",
   "metadata": {},
   "source": [
    "### Parsing strings\n",
    "\n",
    "We can use the command `parse` to turn a string into an integer:"
   ]
  },
  {
   "cell_type": "code",
   "execution_count": 15,
   "metadata": {
    "execution": {
     "iopub.execute_input": "2023-01-10T11:13:00.273120Z",
     "iopub.status.busy": "2023-01-10T11:13:00.271741Z",
     "iopub.status.idle": "2023-01-10T11:13:00.275036Z",
     "shell.execute_reply": "2023-01-10T11:13:00.273884Z"
    }
   },
   "outputs": [
    {
     "data": {
      "text/plain": [
       "123"
      ]
     },
     "execution_count": 15,
     "metadata": {},
     "output_type": "execute_result"
    }
   ],
   "source": [
    "parse(Int, \"123\")"
   ]
  },
  {
   "cell_type": "markdown",
   "metadata": {},
   "source": [
    "We can specify base 2 as an optional argument:"
   ]
  },
  {
   "cell_type": "code",
   "execution_count": 16,
   "metadata": {
    "execution": {
     "iopub.execute_input": "2023-01-10T11:13:00.277272Z",
     "iopub.status.busy": "2023-01-10T11:13:00.276713Z",
     "iopub.status.idle": "2023-01-10T11:13:00.290466Z",
     "shell.execute_reply": "2023-01-10T11:13:00.289893Z"
    }
   },
   "outputs": [
    {
     "data": {
      "text/plain": [
       "-5"
      ]
     },
     "execution_count": 16,
     "metadata": {},
     "output_type": "execute_result"
    }
   ],
   "source": [
    "parse(Int, \"-101\"; base=2)"
   ]
  },
  {
   "cell_type": "markdown",
   "metadata": {},
   "source": [
    "If we are specifying\n",
    "bits its safer to parse as an `UInt32`, otherwise the first bit\n",
    "is not recognised as a sign:"
   ]
  },
  {
   "cell_type": "code",
   "execution_count": 17,
   "metadata": {
    "execution": {
     "iopub.execute_input": "2023-01-10T11:13:00.292674Z",
     "iopub.status.busy": "2023-01-10T11:13:00.292119Z",
     "iopub.status.idle": "2023-01-10T11:13:00.580759Z",
     "shell.execute_reply": "2023-01-10T11:13:00.580326Z"
    }
   },
   "outputs": [
    {
     "data": {
      "text/plain": [
       "0xf09f998a"
      ]
     },
     "execution_count": 17,
     "metadata": {},
     "output_type": "execute_result"
    }
   ],
   "source": [
    "bts = \"11110000100111111001100110001010\"\n",
    "x = parse(UInt32, bts; base=2)"
   ]
  },
  {
   "cell_type": "markdown",
   "metadata": {},
   "source": [
    "The function `reinterpret` allows us to reinterpret the resulting\n",
    "sequence of 32 bits as a different type. For example, we can reinterpret\n",
    "as an `Int32` in which case the first bit is taken to be the sign bit\n",
    "and we get a negative number:"
   ]
  },
  {
   "cell_type": "code",
   "execution_count": 18,
   "metadata": {
    "execution": {
     "iopub.execute_input": "2023-01-10T11:13:00.583781Z",
     "iopub.status.busy": "2023-01-10T11:13:00.582584Z",
     "iopub.status.idle": "2023-01-10T11:13:00.852321Z",
     "shell.execute_reply": "2023-01-10T11:13:00.851820Z"
    }
   },
   "outputs": [
    {
     "data": {
      "text/plain": [
       "-257975926"
      ]
     },
     "execution_count": 18,
     "metadata": {},
     "output_type": "execute_result"
    }
   ],
   "source": [
    "reinterpret(Int32, x)"
   ]
  },
  {
   "cell_type": "markdown",
   "metadata": {},
   "source": [
    "We can also reinterpret as a `Char`:"
   ]
  },
  {
   "cell_type": "code",
   "execution_count": 19,
   "metadata": {
    "execution": {
     "iopub.execute_input": "2023-01-10T11:13:00.854652Z",
     "iopub.status.busy": "2023-01-10T11:13:00.853924Z",
     "iopub.status.idle": "2023-01-10T11:13:01.155140Z",
     "shell.execute_reply": "2023-01-10T11:13:01.154606Z"
    }
   },
   "outputs": [
    {
     "data": {
      "text/plain": [
       "'🙊': Unicode U+1F64A (category So: Symbol, other)"
      ]
     },
     "execution_count": 19,
     "metadata": {},
     "output_type": "execute_result"
    }
   ],
   "source": [
    "reinterpret(Char, x)"
   ]
  },
  {
   "cell_type": "markdown",
   "metadata": {},
   "source": [
    "We will use `parse` and `reinterpret` as it allows one to easily manipulate bits. \n",
    "This is not actually how one should\n",
    "do it as it is slow.\n",
    "\n",
    "### Bitwise operations (non-examinable)\n",
    "\n",
    "In practice, one should manipulate bits using bitwise operations.\n",
    "These will not be required in this course and are not examinable, but\n",
    "are valuable to know if you have a career involving high performance computing.\n",
    "The `p << k` shifts the bits of `p` to the left `k` times inserting zeros,\n",
    "while `p >> k` shifts to the right:"
   ]
  },
  {
   "cell_type": "code",
   "execution_count": 20,
   "metadata": {
    "execution": {
     "iopub.execute_input": "2023-01-10T11:13:01.157484Z",
     "iopub.status.busy": "2023-01-10T11:13:01.156900Z",
     "iopub.status.idle": "2023-01-10T11:13:01.202575Z",
     "shell.execute_reply": "2023-01-10T11:13:01.202046Z"
    }
   },
   "outputs": [
    {
     "name": "stdout",
     "output_type": "stream",
     "text": [
      "0000000000000000000000000000000000000000000000000000000000010111\n",
      "0000000000000000000000000000000000000000000000000000000001011100\n",
      "0000000000000000000000000000000000000000000000000000000000000101\n"
     ]
    }
   ],
   "source": [
    "println(bitstring(23));\n",
    "println(bitstring(23 << 2));\n",
    "println(bitstring(23 >> 2));"
   ]
  },
  {
   "cell_type": "markdown",
   "metadata": {},
   "source": [
    "The operations `&`, `|` and `⊻` do bitwise and, or, and xor.\n",
    "\n",
    "## 3. Vectors, Matrices, and Arrays\n",
    "\n",
    "We can create a vector using brackets:"
   ]
  },
  {
   "cell_type": "code",
   "execution_count": 21,
   "metadata": {
    "execution": {
     "iopub.execute_input": "2023-01-10T11:13:01.204965Z",
     "iopub.status.busy": "2023-01-10T11:13:01.204164Z",
     "iopub.status.idle": "2023-01-10T11:13:02.242429Z",
     "shell.execute_reply": "2023-01-10T11:13:02.241901Z"
    }
   },
   "outputs": [
    {
     "data": {
      "text/plain": [
       "3-element Vector{Int64}:\n",
       " 11\n",
       " 24\n",
       " 32"
      ]
     },
     "execution_count": 21,
     "metadata": {},
     "output_type": "execute_result"
    }
   ],
   "source": [
    "v = [11, 24, 32]"
   ]
  },
  {
   "cell_type": "markdown",
   "metadata": {},
   "source": [
    "Like a string, elements are accessed via brackets. Julia\n",
    "uses 1-based indexing (like Matlab and Mathematica, unlike\n",
    "Python and C which use 0-based indexing):"
   ]
  },
  {
   "cell_type": "code",
   "execution_count": 22,
   "metadata": {
    "execution": {
     "iopub.execute_input": "2023-01-10T11:13:02.244814Z",
     "iopub.status.busy": "2023-01-10T11:13:02.244248Z",
     "iopub.status.idle": "2023-01-10T11:13:02.558933Z",
     "shell.execute_reply": "2023-01-10T11:13:02.558290Z"
    }
   },
   "outputs": [
    {
     "data": {
      "text/plain": [
       "(11, 32)"
      ]
     },
     "execution_count": 22,
     "metadata": {},
     "output_type": "execute_result"
    }
   ],
   "source": [
    "v[1], v[3]"
   ]
  },
  {
   "cell_type": "markdown",
   "metadata": {},
   "source": [
    "Accessing outside the range gives an error:"
   ]
  },
  {
   "cell_type": "code",
   "execution_count": 23,
   "metadata": {
    "execution": {
     "iopub.execute_input": "2023-01-10T11:13:02.561765Z",
     "iopub.status.busy": "2023-01-10T11:13:02.560896Z",
     "iopub.status.idle": "2023-01-10T11:13:03.790552Z",
     "shell.execute_reply": "2023-01-10T11:13:03.789943Z"
    }
   },
   "outputs": [
    {
     "ename": "LoadError",
     "evalue": "BoundsError: attempt to access 3-element Vector{Int64} at index [4]",
     "output_type": "error",
     "traceback": [
      "BoundsError: attempt to access 3-element Vector{Int64} at index [4]",
      "",
      "Stacktrace:",
      " [1] getindex(A::Vector{Int64}, i1::Int64)",
      "   @ Base ./array.jl:924",
      " [2] top-level scope",
      "   @ In[23]:1"
     ]
    }
   ],
   "source": [
    "v[4]"
   ]
  },
  {
   "cell_type": "markdown",
   "metadata": {},
   "source": [
    "Vectors can be made with different types, for example,\n",
    "here is a vector of three 8-bit integers:"
   ]
  },
  {
   "cell_type": "code",
   "execution_count": 24,
   "metadata": {
    "execution": {
     "iopub.execute_input": "2023-01-10T11:13:03.793017Z",
     "iopub.status.busy": "2023-01-10T11:13:03.792227Z",
     "iopub.status.idle": "2023-01-10T11:13:04.339437Z",
     "shell.execute_reply": "2023-01-10T11:13:04.338820Z"
    }
   },
   "outputs": [
    {
     "data": {
      "text/plain": [
       "3-element Vector{Int8}:\n",
       " 11\n",
       " 24\n",
       " 32"
      ]
     },
     "execution_count": 24,
     "metadata": {},
     "output_type": "execute_result"
    }
   ],
   "source": [
    "v = [Int8(11), Int8(24), Int8(32)]"
   ]
  },
  {
   "cell_type": "markdown",
   "metadata": {},
   "source": [
    "Just like strings, Vectors are not primitive types,\n",
    "but rather point to the start of sequence of bits in memory \n",
    "that are interpreted in the corresponding type.\n",
    "In this last case, there are $3*8=24$ bits/3 bytes in memory.\n",
    "\n",
    "The easiest way to create a vector is to use `zeros` to create a zero `Vector`\n",
    "and then modify its entries:"
   ]
  },
  {
   "cell_type": "code",
   "execution_count": 25,
   "metadata": {
    "execution": {
     "iopub.execute_input": "2023-01-10T11:13:04.342516Z",
     "iopub.status.busy": "2023-01-10T11:13:04.341860Z",
     "iopub.status.idle": "2023-01-10T11:13:04.350409Z",
     "shell.execute_reply": "2023-01-10T11:13:04.349962Z"
    }
   },
   "outputs": [
    {
     "data": {
      "text/plain": [
       "5-element Vector{Int64}:\n",
       " 0\n",
       " 3\n",
       " 0\n",
       " 0\n",
       " 0"
      ]
     },
     "execution_count": 25,
     "metadata": {},
     "output_type": "execute_result"
    }
   ],
   "source": [
    "v = zeros(Int, 5)\n",
    "v[2] = 3\n",
    "v"
   ]
  },
  {
   "cell_type": "markdown",
   "metadata": {},
   "source": [
    "Note: we can't assign a non-integer floating point number to an integer vector:"
   ]
  },
  {
   "cell_type": "code",
   "execution_count": 26,
   "metadata": {
    "execution": {
     "iopub.execute_input": "2023-01-10T11:13:04.352459Z",
     "iopub.status.busy": "2023-01-10T11:13:04.351882Z",
     "iopub.status.idle": "2023-01-10T11:13:04.457072Z",
     "shell.execute_reply": "2023-01-10T11:13:04.456589Z"
    }
   },
   "outputs": [
    {
     "ename": "LoadError",
     "evalue": "InexactError: Int64(3.5)",
     "output_type": "error",
     "traceback": [
      "InexactError: Int64(3.5)",
      "",
      "Stacktrace:",
      " [1] Int64",
      "   @ ./float.jl:788 [inlined]",
      " [2] convert",
      "   @ ./number.jl:7 [inlined]",
      " [3] setindex!(A::Vector{Int64}, x::Float64, i1::Int64)",
      "   @ Base ./array.jl:966",
      " [4] top-level scope",
      "   @ In[26]:1"
     ]
    }
   ],
   "source": [
    "v[2] = 3.5"
   ]
  },
  {
   "cell_type": "markdown",
   "metadata": {},
   "source": [
    "We can also create vectors with `ones` (a vector of all ones), `rand` (a vector of random numbers between `0` and `1`)\n",
    "and `randn` (a vector of samples of normal distributed quasi-random numbers).\n",
    "\n",
    "When we create a vector whose entries are of different types, they are mapped to a type that can represent every entry.\n",
    "For example, here we input a list of one `Int32` followed by three `Int64`s, which are automatically converted to\n",
    "all be `Int64`:"
   ]
  },
  {
   "cell_type": "code",
   "execution_count": 27,
   "metadata": {
    "execution": {
     "iopub.execute_input": "2023-01-10T11:13:04.459864Z",
     "iopub.status.busy": "2023-01-10T11:13:04.458973Z",
     "iopub.status.idle": "2023-01-10T11:13:04.504761Z",
     "shell.execute_reply": "2023-01-10T11:13:04.504173Z"
    }
   },
   "outputs": [
    {
     "data": {
      "text/plain": [
       "4-element Vector{Int64}:\n",
       " 1\n",
       " 2\n",
       " 3\n",
       " 4"
      ]
     },
     "execution_count": 27,
     "metadata": {},
     "output_type": "execute_result"
    }
   ],
   "source": [
    "[Int32(1), 2, 3, 4]"
   ]
  },
  {
   "cell_type": "markdown",
   "metadata": {},
   "source": [
    "In the event that the types cannot automatically be converted, it defaults to an `Any` vector, which\n",
    "is similar to a Python list.\n",
    "This is bad performancewise as it does not know how many bits each element will need, so should be avoided."
   ]
  },
  {
   "cell_type": "code",
   "execution_count": 28,
   "metadata": {
    "execution": {
     "iopub.execute_input": "2023-01-10T11:13:04.508032Z",
     "iopub.status.busy": "2023-01-10T11:13:04.506964Z",
     "iopub.status.idle": "2023-01-10T11:13:05.236735Z",
     "shell.execute_reply": "2023-01-10T11:13:05.236253Z"
    }
   },
   "outputs": [
    {
     "data": {
      "text/plain": [
       "3-element Vector{Any}:\n",
       " 1.0\n",
       " 1\n",
       "  \"1\""
      ]
     },
     "execution_count": 28,
     "metadata": {},
     "output_type": "execute_result"
    }
   ],
   "source": [
    "[1.0, 1, \"1\"]"
   ]
  },
  {
   "cell_type": "markdown",
   "metadata": {},
   "source": [
    "We can also specify the type of the Vector explicitly by writing the desired type before the first bracket:"
   ]
  },
  {
   "cell_type": "code",
   "execution_count": 29,
   "metadata": {
    "execution": {
     "iopub.execute_input": "2023-01-10T11:13:05.239452Z",
     "iopub.status.busy": "2023-01-10T11:13:05.238611Z",
     "iopub.status.idle": "2023-01-10T11:13:05.694333Z",
     "shell.execute_reply": "2023-01-10T11:13:05.693889Z"
    }
   },
   "outputs": [
    {
     "data": {
      "text/plain": [
       "3-element Vector{Int32}:\n",
       " 1\n",
       " 2\n",
       " 3"
      ]
     },
     "execution_count": 29,
     "metadata": {},
     "output_type": "execute_result"
    }
   ],
   "source": [
    "Int32[1, 2, 3]"
   ]
  },
  {
   "cell_type": "markdown",
   "metadata": {},
   "source": [
    "We can also create an array using comprehensions:"
   ]
  },
  {
   "cell_type": "code",
   "execution_count": 30,
   "metadata": {
    "execution": {
     "iopub.execute_input": "2023-01-10T11:13:05.696606Z",
     "iopub.status.busy": "2023-01-10T11:13:05.696048Z",
     "iopub.status.idle": "2023-01-10T11:13:05.721468Z",
     "shell.execute_reply": "2023-01-10T11:13:05.720914Z"
    }
   },
   "outputs": [
    {
     "data": {
      "text/plain": [
       "5-element Vector{Int64}:\n",
       "  1\n",
       "  4\n",
       "  9\n",
       " 16\n",
       " 25"
      ]
     },
     "execution_count": 30,
     "metadata": {},
     "output_type": "execute_result"
    }
   ],
   "source": [
    "[k^2 for k = 1:5]"
   ]
  },
  {
   "cell_type": "markdown",
   "metadata": {},
   "source": [
    "Matrices are created similar to vectors, but by specifying two dimensions instead of one.\n",
    "Again, the simplest way is to use `zeros` to create a matrix of all zeros:"
   ]
  },
  {
   "cell_type": "code",
   "execution_count": 31,
   "metadata": {
    "execution": {
     "iopub.execute_input": "2023-01-10T11:13:05.724107Z",
     "iopub.status.busy": "2023-01-10T11:13:05.723426Z",
     "iopub.status.idle": "2023-01-10T11:13:06.620091Z",
     "shell.execute_reply": "2023-01-10T11:13:06.619526Z"
    }
   },
   "outputs": [
    {
     "data": {
      "text/plain": [
       "4×5 Matrix{Int64}:\n",
       " 0  0  0  0  0\n",
       " 0  0  0  0  0\n",
       " 0  0  0  0  0\n",
       " 0  0  0  0  0"
      ]
     },
     "execution_count": 31,
     "metadata": {},
     "output_type": "execute_result"
    }
   ],
   "source": [
    "zeros(Int, 4, 5) # creates a 4 × 5 matrix of Int zeros"
   ]
  },
  {
   "cell_type": "markdown",
   "metadata": {},
   "source": [
    "We can also create matrices by hand.  Here, spaces delimit the columns and semicolons delimit the rows:"
   ]
  },
  {
   "cell_type": "code",
   "execution_count": 32,
   "metadata": {
    "execution": {
     "iopub.execute_input": "2023-01-10T11:13:06.623479Z",
     "iopub.status.busy": "2023-01-10T11:13:06.622582Z",
     "iopub.status.idle": "2023-01-10T11:13:06.663995Z",
     "shell.execute_reply": "2023-01-10T11:13:06.663539Z"
    }
   },
   "outputs": [
    {
     "data": {
      "text/plain": [
       "3×2 Matrix{Int64}:\n",
       " 1  2\n",
       " 3  4\n",
       " 5  6"
      ]
     },
     "execution_count": 32,
     "metadata": {},
     "output_type": "execute_result"
    }
   ],
   "source": [
    "A = [1 2; 3 4; 5 6]"
   ]
  },
  {
   "cell_type": "markdown",
   "metadata": {},
   "source": [
    "We can also create matrices using brackets, a formula, and a `for` command:"
   ]
  },
  {
   "cell_type": "code",
   "execution_count": 33,
   "metadata": {
    "execution": {
     "iopub.execute_input": "2023-01-10T11:13:06.666018Z",
     "iopub.status.busy": "2023-01-10T11:13:06.665457Z",
     "iopub.status.idle": "2023-01-10T11:13:06.725893Z",
     "shell.execute_reply": "2023-01-10T11:13:06.725453Z"
    }
   },
   "outputs": [
    {
     "data": {
      "text/plain": [
       "4×5 Matrix{Int64}:\n",
       "  2   3   4   5   6\n",
       "  5   6   7   8   9\n",
       " 10  11  12  13  14\n",
       " 17  18  19  20  21"
      ]
     },
     "execution_count": 33,
     "metadata": {},
     "output_type": "execute_result"
    }
   ],
   "source": [
    "[k^2+j for k=1:4, j=1:5]"
   ]
  },
  {
   "cell_type": "markdown",
   "metadata": {},
   "source": [
    "Matrices are really vectors in disguise.  They are still stored in memory in a consecutive sequence of bits.\n",
    "We can see the underlying vector using the `vec` command:"
   ]
  },
  {
   "cell_type": "code",
   "execution_count": 34,
   "metadata": {
    "execution": {
     "iopub.execute_input": "2023-01-10T11:13:06.728040Z",
     "iopub.status.busy": "2023-01-10T11:13:06.727486Z",
     "iopub.status.idle": "2023-01-10T11:13:06.743042Z",
     "shell.execute_reply": "2023-01-10T11:13:06.742557Z"
    }
   },
   "outputs": [
    {
     "data": {
      "text/plain": [
       "6-element Vector{Int64}:\n",
       " 1\n",
       " 3\n",
       " 5\n",
       " 2\n",
       " 4\n",
       " 6"
      ]
     },
     "execution_count": 34,
     "metadata": {},
     "output_type": "execute_result"
    }
   ],
   "source": [
    "vec(A)"
   ]
  },
  {
   "cell_type": "markdown",
   "metadata": {},
   "source": [
    "The only difference between matrices and vectors from the computers perspective is that they have a `size` which \n",
    "changes the interpretation of whats stored in memory:"
   ]
  },
  {
   "cell_type": "code",
   "execution_count": 35,
   "metadata": {
    "execution": {
     "iopub.execute_input": "2023-01-10T11:13:06.745154Z",
     "iopub.status.busy": "2023-01-10T11:13:06.744599Z",
     "iopub.status.idle": "2023-01-10T11:13:06.750532Z",
     "shell.execute_reply": "2023-01-10T11:13:06.750064Z"
    }
   },
   "outputs": [
    {
     "data": {
      "text/plain": [
       "(3, 2)"
      ]
     },
     "execution_count": 35,
     "metadata": {},
     "output_type": "execute_result"
    }
   ],
   "source": [
    "size(A)"
   ]
  },
  {
   "cell_type": "markdown",
   "metadata": {},
   "source": [
    "Matrices can be manipulated easily on a computer.  We can multiply a matrix times vector:"
   ]
  },
  {
   "cell_type": "code",
   "execution_count": 36,
   "metadata": {
    "execution": {
     "iopub.execute_input": "2023-01-10T11:13:06.752821Z",
     "iopub.status.busy": "2023-01-10T11:13:06.752132Z",
     "iopub.status.idle": "2023-01-10T11:13:06.841848Z",
     "shell.execute_reply": "2023-01-10T11:13:06.841393Z"
    }
   },
   "outputs": [
    {
     "data": {
      "text/plain": [
       "3-element Vector{Int64}:\n",
       " 26\n",
       " 60\n",
       " 94"
      ]
     },
     "execution_count": 36,
     "metadata": {},
     "output_type": "execute_result"
    }
   ],
   "source": [
    "x = [8; 9]\n",
    "A * x"
   ]
  },
  {
   "cell_type": "markdown",
   "metadata": {},
   "source": [
    "or a matrix times matrix:"
   ]
  },
  {
   "cell_type": "code",
   "execution_count": 37,
   "metadata": {
    "execution": {
     "iopub.execute_input": "2023-01-10T11:13:06.843889Z",
     "iopub.status.busy": "2023-01-10T11:13:06.843327Z",
     "iopub.status.idle": "2023-01-10T11:13:07.567161Z",
     "shell.execute_reply": "2023-01-10T11:13:07.566667Z"
    }
   },
   "outputs": [
    {
     "data": {
      "text/plain": [
       "3×2 Matrix{Int64}:\n",
       " 16  19\n",
       " 36  43\n",
       " 56  67"
      ]
     },
     "execution_count": 37,
     "metadata": {},
     "output_type": "execute_result"
    }
   ],
   "source": [
    "A * [4 5; 6 7]"
   ]
  },
  {
   "cell_type": "markdown",
   "metadata": {},
   "source": [
    "If you use `.*`, it does entrywise multiplication:"
   ]
  },
  {
   "cell_type": "code",
   "execution_count": 38,
   "metadata": {
    "execution": {
     "iopub.execute_input": "2023-01-10T11:13:07.569332Z",
     "iopub.status.busy": "2023-01-10T11:13:07.568645Z",
     "iopub.status.idle": "2023-01-10T11:13:07.683727Z",
     "shell.execute_reply": "2023-01-10T11:13:07.683208Z"
    }
   },
   "outputs": [
    {
     "data": {
      "text/plain": [
       "2×2 Matrix{Int64}:\n",
       "  4  10\n",
       " 18  28"
      ]
     },
     "execution_count": 38,
     "metadata": {},
     "output_type": "execute_result"
    }
   ],
   "source": [
    "[1 2; 3 4] .* [4 5; 6 7]"
   ]
  },
  {
   "cell_type": "markdown",
   "metadata": {},
   "source": [
    "We can take the transpose of a real vector as follows:"
   ]
  },
  {
   "cell_type": "code",
   "execution_count": 39,
   "metadata": {
    "execution": {
     "iopub.execute_input": "2023-01-10T11:13:07.685923Z",
     "iopub.status.busy": "2023-01-10T11:13:07.685348Z",
     "iopub.status.idle": "2023-01-10T11:13:08.112822Z",
     "shell.execute_reply": "2023-01-10T11:13:08.112243Z"
    }
   },
   "outputs": [
    {
     "data": {
      "text/plain": [
       "1×3 adjoint(::Vector{Int64}) with eltype Int64:\n",
       " 1  2  3"
      ]
     },
     "execution_count": 39,
     "metadata": {},
     "output_type": "execute_result"
    }
   ],
   "source": [
    "a = [1, 2, 3]\n",
    "a'"
   ]
  },
  {
   "cell_type": "markdown",
   "metadata": {},
   "source": [
    "Note for complex-valued vectors this is the conjugate-transpose,\n",
    "and so one may need to use `transpose(a)`. Both `a'` and `transpose(a)`\n",
    "should be thought of as \"dual-vectors\", and so multiplcation with a\n",
    "transposed vector with a normal vector gives a constant:"
   ]
  },
  {
   "cell_type": "code",
   "execution_count": 40,
   "metadata": {
    "execution": {
     "iopub.execute_input": "2023-01-10T11:13:08.115140Z",
     "iopub.status.busy": "2023-01-10T11:13:08.114585Z",
     "iopub.status.idle": "2023-01-10T11:13:08.141133Z",
     "shell.execute_reply": "2023-01-10T11:13:08.140693Z"
    }
   },
   "outputs": [
    {
     "data": {
      "text/plain": [
       "32"
      ]
     },
     "execution_count": 40,
     "metadata": {},
     "output_type": "execute_result"
    }
   ],
   "source": [
    "b = [4, 5, 6]\n",
    "a' * b"
   ]
  },
  {
   "cell_type": "markdown",
   "metadata": {},
   "source": [
    "One important note: a vector is not the same as an `n x 1` matrix, and a transposed\n",
    "vector is not the same as a `1 × n` matrix.\n",
    "\n",
    "### Accessing and altering subsections of arrays \n",
    "\n",
    "We will use the following notation to get at the columns and rows of matrices:\n",
    "```\n",
    "A[a:b,k]    # returns the a-th through b-th rows of the k-th column of A as a Vector of length (b-a+1)\n",
    "A[k,a:b]    # returns the a-th through b-th columns of the k-th row of A as a Vector of length (b-a+1)\n",
    "A[:,k]      # returns all rows of the k-th column of A as a Vector of length size(A,1)\n",
    "A[k,:]      # returns all columns of the k-th row of A as a Vector of length size(A,2)\n",
    "A[a:b,c:d]  # returns the a-th through b-th rows and c-th through d-th columns of A \n",
    "            # as a (b-a+1) x (d-c+1) Matrix\n",
    "```\n",
    " The ranges `a:b` and `c:d` can be replaced by any `AbstractVector{Int}`.  For example:"
   ]
  },
  {
   "cell_type": "code",
   "execution_count": 41,
   "metadata": {
    "execution": {
     "iopub.execute_input": "2023-01-10T11:13:08.143980Z",
     "iopub.status.busy": "2023-01-10T11:13:08.142868Z",
     "iopub.status.idle": "2023-01-10T11:13:08.221723Z",
     "shell.execute_reply": "2023-01-10T11:13:08.221134Z"
    }
   },
   "outputs": [
    {
     "data": {
      "text/plain": [
       "3-element Vector{Int64}:\n",
       "  2\n",
       "  8\n",
       " 11"
      ]
     },
     "execution_count": 41,
     "metadata": {},
     "output_type": "execute_result"
    }
   ],
   "source": [
    "A = [1 2 3; 4 5 6; 7 8 9; 10 11 12]\n",
    "A[[1,3,4],2]  # returns the 1st, 3rd and 4th rows of the 2nd column of A"
   ]
  },
  {
   "cell_type": "markdown",
   "metadata": {},
   "source": [
    "**Exercise**  Can you guess what `A[2,[1,3,4]]` returns, using the definition of `A` as above?  \n",
    "What about `A[1:2,[1,3]]`?  And `A[1,B[1:2,1]]`?  And `vec(A[1,B[1:2,1]])`?\n",
    "\n",
    "We can also use this notation to modify entries of the matrix.  For example, we can set the `1:2` x `2:3` subblock of A to `[1 2; 3 4]` as follows:"
   ]
  },
  {
   "cell_type": "code",
   "execution_count": 42,
   "metadata": {
    "execution": {
     "iopub.execute_input": "2023-01-10T11:13:08.224371Z",
     "iopub.status.busy": "2023-01-10T11:13:08.223626Z",
     "iopub.status.idle": "2023-01-10T11:13:08.264563Z",
     "shell.execute_reply": "2023-01-10T11:13:08.264027Z"
    }
   },
   "outputs": [
    {
     "data": {
      "text/plain": [
       "4×3 Matrix{Int64}:\n",
       "  1   1   2\n",
       "  4   3   4\n",
       "  7   8   9\n",
       " 10  11  12"
      ]
     },
     "execution_count": 42,
     "metadata": {},
     "output_type": "execute_result"
    }
   ],
   "source": [
    "A[1:2,2:3] = [1 2; 3 4]\n",
    "A"
   ]
  },
  {
   "cell_type": "markdown",
   "metadata": {},
   "source": [
    "### Broadcasting\n",
    "\n",
    "It often is necessary to apply a function to every entry of a vector.\n",
    "By adding `.` to the end of a function we \"broadcast\" the function over\n",
    "a vector:"
   ]
  },
  {
   "cell_type": "code",
   "execution_count": 43,
   "metadata": {
    "execution": {
     "iopub.execute_input": "2023-01-10T11:13:08.267363Z",
     "iopub.status.busy": "2023-01-10T11:13:08.266517Z",
     "iopub.status.idle": "2023-01-10T11:13:08.885458Z",
     "shell.execute_reply": "2023-01-10T11:13:08.884958Z"
    }
   },
   "outputs": [
    {
     "data": {
      "text/plain": [
       "3-element Vector{Float64}:\n",
       "  0.5403023058681398\n",
       " -0.4161468365471424\n",
       " -0.9899924966004454"
      ]
     },
     "execution_count": 43,
     "metadata": {},
     "output_type": "execute_result"
    }
   ],
   "source": [
    "x = [1,2,3]\n",
    "cos.(x) # equivalent to [cos(1), cos(2), cos(3)]"
   ]
  },
  {
   "cell_type": "markdown",
   "metadata": {},
   "source": [
    "Broadcasting has some interesting behaviour for matrices.\n",
    "If one dimension of a matrix (or vector) is 1, it automatically\n",
    "repeats the matrix (or vector) to match the size of another example.\n",
    "\n",
    "**Example**"
   ]
  },
  {
   "cell_type": "code",
   "execution_count": 44,
   "metadata": {
    "execution": {
     "iopub.execute_input": "2023-01-10T11:13:08.888284Z",
     "iopub.status.busy": "2023-01-10T11:13:08.887587Z",
     "iopub.status.idle": "2023-01-10T11:13:08.995691Z",
     "shell.execute_reply": "2023-01-10T11:13:08.995168Z"
    }
   },
   "outputs": [
    {
     "data": {
      "text/plain": [
       "3×2 Matrix{Int64}:\n",
       "  4   5\n",
       "  8  10\n",
       " 12  15"
      ]
     },
     "execution_count": 44,
     "metadata": {},
     "output_type": "execute_result"
    }
   ],
   "source": [
    "[1,2,3] .* [4,5]'"
   ]
  },
  {
   "cell_type": "markdown",
   "metadata": {},
   "source": [
    "Since `size([1,2,3],2) == 1` it repeats the same vector to match the size\n",
    "`size([4,5]',2) == 2`. Similarly, `[4,5]'` is repeated 3 times. So the\n",
    "above is equivalent to:"
   ]
  },
  {
   "cell_type": "code",
   "execution_count": 45,
   "metadata": {
    "execution": {
     "iopub.execute_input": "2023-01-10T11:13:08.998109Z",
     "iopub.status.busy": "2023-01-10T11:13:08.997394Z",
     "iopub.status.idle": "2023-01-10T11:13:09.001226Z",
     "shell.execute_reply": "2023-01-10T11:13:09.000712Z"
    }
   },
   "outputs": [
    {
     "data": {
      "text/plain": [
       "3×2 Matrix{Int64}:\n",
       "  4   5\n",
       "  8  10\n",
       " 12  15"
      ]
     },
     "execution_count": 45,
     "metadata": {},
     "output_type": "execute_result"
    }
   ],
   "source": [
    "[1 1; 2 2; 3 3] .* [4 5; 4 5; 4 5]"
   ]
  },
  {
   "cell_type": "markdown",
   "metadata": {},
   "source": [
    "Note we can also use broadcasting with our own functions (construction discussed later):"
   ]
  },
  {
   "cell_type": "code",
   "execution_count": 46,
   "metadata": {
    "execution": {
     "iopub.execute_input": "2023-01-10T11:13:09.003301Z",
     "iopub.status.busy": "2023-01-10T11:13:09.002721Z",
     "iopub.status.idle": "2023-01-10T11:13:09.454248Z",
     "shell.execute_reply": "2023-01-10T11:13:09.453695Z"
    }
   },
   "outputs": [
    {
     "data": {
      "text/plain": [
       "3×2 Matrix{Float64}:\n",
       " -0.91113    0.0044257\n",
       " -0.839072   0.843854\n",
       "  0.0044257  0.907447"
      ]
     },
     "execution_count": 46,
     "metadata": {},
     "output_type": "execute_result"
    }
   ],
   "source": [
    "f = (x,y) -> cos(x + 2y)\n",
    "f.([1,2,3], [4,5]')"
   ]
  },
  {
   "cell_type": "markdown",
   "metadata": {},
   "source": [
    "### Ranges\n",
    "\n",
    "We have already seen that we can represent a range of integers via `a:b`. Note we can\n",
    "convert it to a `Vector` as follows:"
   ]
  },
  {
   "cell_type": "code",
   "execution_count": 47,
   "metadata": {
    "execution": {
     "iopub.execute_input": "2023-01-10T11:13:09.456719Z",
     "iopub.status.busy": "2023-01-10T11:13:09.456057Z",
     "iopub.status.idle": "2023-01-10T11:13:09.470184Z",
     "shell.execute_reply": "2023-01-10T11:13:09.469628Z"
    }
   },
   "outputs": [
    {
     "data": {
      "text/plain": [
       "5-element Vector{Int64}:\n",
       " 2\n",
       " 3\n",
       " 4\n",
       " 5\n",
       " 6"
      ]
     },
     "execution_count": 47,
     "metadata": {},
     "output_type": "execute_result"
    }
   ],
   "source": [
    "Vector(2:6)"
   ]
  },
  {
   "cell_type": "markdown",
   "metadata": {},
   "source": [
    "We can also specify a step:"
   ]
  },
  {
   "cell_type": "code",
   "execution_count": 48,
   "metadata": {
    "execution": {
     "iopub.execute_input": "2023-01-10T11:13:09.472534Z",
     "iopub.status.busy": "2023-01-10T11:13:09.471908Z",
     "iopub.status.idle": "2023-01-10T11:13:09.794035Z",
     "shell.execute_reply": "2023-01-10T11:13:09.793457Z"
    }
   },
   "outputs": [
    {
     "data": {
      "text/plain": [
       "([2, 4, 6], [6, 5, 4, 3, 2])"
      ]
     },
     "execution_count": 48,
     "metadata": {},
     "output_type": "execute_result"
    }
   ],
   "source": [
    "Vector(2:2:6), Vector(6:-1:2)"
   ]
  },
  {
   "cell_type": "markdown",
   "metadata": {},
   "source": [
    "Finally, the `range` function gives more functionality, for example, we can create 4 evenly\n",
    "spaced points between `-1` and `1`:"
   ]
  },
  {
   "cell_type": "code",
   "execution_count": 49,
   "metadata": {
    "execution": {
     "iopub.execute_input": "2023-01-10T11:13:09.796475Z",
     "iopub.status.busy": "2023-01-10T11:13:09.795768Z",
     "iopub.status.idle": "2023-01-10T11:13:09.946396Z",
     "shell.execute_reply": "2023-01-10T11:13:09.945823Z"
    }
   },
   "outputs": [
    {
     "data": {
      "text/plain": [
       "4-element Vector{Float64}:\n",
       " -1.0\n",
       " -0.3333333333333333\n",
       "  0.3333333333333333\n",
       "  1.0"
      ]
     },
     "execution_count": 49,
     "metadata": {},
     "output_type": "execute_result"
    }
   ],
   "source": [
    "Vector(range(-1, 1; length=4))"
   ]
  },
  {
   "cell_type": "markdown",
   "metadata": {},
   "source": [
    "Note that `Vector` is mutable but a range is not:"
   ]
  },
  {
   "cell_type": "code",
   "execution_count": 50,
   "metadata": {
    "execution": {
     "iopub.execute_input": "2023-01-10T11:13:09.948738Z",
     "iopub.status.busy": "2023-01-10T11:13:09.948143Z",
     "iopub.status.idle": "2023-01-10T11:13:10.000145Z",
     "shell.execute_reply": "2023-01-10T11:13:09.999688Z"
    }
   },
   "outputs": [
    {
     "ename": "LoadError",
     "evalue": "CanonicalIndexError: setindex! not defined for UnitRange{Int64}",
     "output_type": "error",
     "traceback": [
      "CanonicalIndexError: setindex! not defined for UnitRange{Int64}",
      "",
      "Stacktrace:",
      " [1] error_if_canonical_setindex(#unused#::IndexLinear, A::UnitRange{Int64}, #unused#::Int64)",
      "   @ Base ./abstractarray.jl:1352",
      " [2] setindex!(A::UnitRange{Int64}, v::Int64, I::Int64)",
      "   @ Base ./abstractarray.jl:1343",
      " [3] top-level scope",
      "   @ In[50]:2"
     ]
    }
   ],
   "source": [
    "r = 2:6\n",
    "r[2] = 3   # Not allowed"
   ]
  },
  {
   "cell_type": "markdown",
   "metadata": {},
   "source": [
    "## 4. Types\n",
    "\n",
    "\n",
    "Julia has two different kinds of types: primitive types (like `Int64`, `Int32`, `UInt32` and `Char`) and composite types.\n",
    "Here is an example of an in-built composite type representing complex numbers, for example,\n",
    "$z = 1+2{\\rm i}$:"
   ]
  },
  {
   "cell_type": "code",
   "execution_count": 51,
   "metadata": {
    "execution": {
     "iopub.execute_input": "2023-01-10T11:13:10.002187Z",
     "iopub.status.busy": "2023-01-10T11:13:10.001573Z",
     "iopub.status.idle": "2023-01-10T11:13:10.028710Z",
     "shell.execute_reply": "2023-01-10T11:13:10.028132Z"
    }
   },
   "outputs": [
    {
     "data": {
      "text/plain": [
       "Complex{Int64}"
      ]
     },
     "execution_count": 51,
     "metadata": {},
     "output_type": "execute_result"
    }
   ],
   "source": [
    "z = 1 + 2im\n",
    "typeof(z)"
   ]
  },
  {
   "cell_type": "markdown",
   "metadata": {},
   "source": [
    "A complex number consists of two fields: a real part (denoted `re`)\n",
    "and an imaginary part (denoted `im`).\n",
    "Fields of a type can be accessed using the `.` notation:"
   ]
  },
  {
   "cell_type": "code",
   "execution_count": 52,
   "metadata": {
    "execution": {
     "iopub.execute_input": "2023-01-10T11:13:10.030985Z",
     "iopub.status.busy": "2023-01-10T11:13:10.030405Z",
     "iopub.status.idle": "2023-01-10T11:13:10.037271Z",
     "shell.execute_reply": "2023-01-10T11:13:10.036811Z"
    }
   },
   "outputs": [
    {
     "data": {
      "text/plain": [
       "(1, 2)"
      ]
     },
     "execution_count": 52,
     "metadata": {},
     "output_type": "execute_result"
    }
   ],
   "source": [
    "z.re, z.im"
   ]
  },
  {
   "cell_type": "markdown",
   "metadata": {},
   "source": [
    "We can make our own types.  Let's make a type to represent complex numbers in the format\n",
    "$$z=r {\\rm exp}({\\rm i}\\theta)$$\n",
    "That is, we want to create a type with two fields: `r` and `θ`.\n",
    "This is done using the `struct` syntax,\n",
    "followed by a list of names for the fields,\n",
    "and finally the keyword `end`."
   ]
  },
  {
   "cell_type": "code",
   "execution_count": 53,
   "metadata": {
    "execution": {
     "iopub.execute_input": "2023-01-10T11:13:10.039610Z",
     "iopub.status.busy": "2023-01-10T11:13:10.038986Z",
     "iopub.status.idle": "2023-01-10T11:13:10.352796Z",
     "shell.execute_reply": "2023-01-10T11:13:10.352363Z"
    }
   },
   "outputs": [
    {
     "data": {
      "text/plain": [
       "RadialComplex(1, 0.1)"
      ]
     },
     "execution_count": 53,
     "metadata": {},
     "output_type": "execute_result"
    }
   ],
   "source": [
    "struct RadialComplex\n",
    "    r\n",
    "    θ\n",
    "end\n",
    "z = RadialComplex(1,0.1)"
   ]
  },
  {
   "cell_type": "markdown",
   "metadata": {},
   "source": [
    "We can access the fields using `.`:"
   ]
  },
  {
   "cell_type": "code",
   "execution_count": 54,
   "metadata": {
    "execution": {
     "iopub.execute_input": "2023-01-10T11:13:10.355033Z",
     "iopub.status.busy": "2023-01-10T11:13:10.354360Z",
     "iopub.status.idle": "2023-01-10T11:13:10.666755Z",
     "shell.execute_reply": "2023-01-10T11:13:10.666309Z"
    }
   },
   "outputs": [
    {
     "data": {
      "text/plain": [
       "(1, 0.1)"
      ]
     },
     "execution_count": 54,
     "metadata": {},
     "output_type": "execute_result"
    }
   ],
   "source": [
    "z.r, z.θ"
   ]
  },
  {
   "cell_type": "markdown",
   "metadata": {},
   "source": [
    "Note that the fields are immutable: we can create\n",
    "a new `RadialComplex` but we cannot modify an existing one.\n",
    "To make a mutable type we use the command `mutable struct`:"
   ]
  },
  {
   "cell_type": "code",
   "execution_count": 55,
   "metadata": {
    "execution": {
     "iopub.execute_input": "2023-01-10T11:13:10.668994Z",
     "iopub.status.busy": "2023-01-10T11:13:10.668441Z",
     "iopub.status.idle": "2023-01-10T11:13:10.920797Z",
     "shell.execute_reply": "2023-01-10T11:13:10.920358Z"
    }
   },
   "outputs": [
    {
     "data": {
      "text/plain": [
       "MutableRadialComplex(2, 3)"
      ]
     },
     "execution_count": 55,
     "metadata": {},
     "output_type": "execute_result"
    }
   ],
   "source": [
    "mutable struct MutableRadialComplex\n",
    "    r\n",
    "    θ\n",
    "end\n",
    "\n",
    "z = MutableRadialComplex(1,2)\n",
    "z.r = 2\n",
    "z.θ = 3\n",
    "z"
   ]
  },
  {
   "cell_type": "markdown",
   "metadata": {},
   "source": [
    "### Abstract types\n",
    "\n",
    "Every type is a sub-type of an _abstract type_, which can never be instantiated on its own.\n",
    "For example, every integer and floating point number is a real number.  \n",
    "Therefore, there is an abstract type `Real`, which encapsulates many other types, \n",
    "including `Float64`, `Float32`, `Int64` and `Int32`.  \n",
    "\n",
    "We can test if type `T` is part of an abstract type `V` using the sytax `T <: V`:"
   ]
  },
  {
   "cell_type": "code",
   "execution_count": 56,
   "metadata": {
    "execution": {
     "iopub.execute_input": "2023-01-10T11:13:10.923620Z",
     "iopub.status.busy": "2023-01-10T11:13:10.922642Z",
     "iopub.status.idle": "2023-01-10T11:13:11.237251Z",
     "shell.execute_reply": "2023-01-10T11:13:11.236789Z"
    }
   },
   "outputs": [
    {
     "data": {
      "text/plain": [
       "(true, true, true)"
      ]
     },
     "execution_count": 56,
     "metadata": {},
     "output_type": "execute_result"
    }
   ],
   "source": [
    "Float64 <: Real, Float32 <: Real, Int64 <: Real"
   ]
  },
  {
   "cell_type": "markdown",
   "metadata": {},
   "source": [
    "Every type has one and only one super type, which is _always_ an abstract type.  \n",
    "The function `supertype` applied to a type returns its super type:"
   ]
  },
  {
   "cell_type": "code",
   "execution_count": 57,
   "metadata": {
    "execution": {
     "iopub.execute_input": "2023-01-10T11:13:11.239456Z",
     "iopub.status.busy": "2023-01-10T11:13:11.238883Z",
     "iopub.status.idle": "2023-01-10T11:13:11.259297Z",
     "shell.execute_reply": "2023-01-10T11:13:11.258741Z"
    }
   },
   "outputs": [
    {
     "data": {
      "text/plain": [
       "Signed"
      ]
     },
     "execution_count": 57,
     "metadata": {},
     "output_type": "execute_result"
    }
   ],
   "source": [
    "supertype(Int32)  # returns Signed, which represents all signed integers."
   ]
  },
  {
   "cell_type": "code",
   "execution_count": 58,
   "metadata": {
    "execution": {
     "iopub.execute_input": "2023-01-10T11:13:11.261693Z",
     "iopub.status.busy": "2023-01-10T11:13:11.261047Z",
     "iopub.status.idle": "2023-01-10T11:13:11.277760Z",
     "shell.execute_reply": "2023-01-10T11:13:11.277282Z"
    }
   },
   "outputs": [
    {
     "data": {
      "text/plain": [
       "AbstractFloat"
      ]
     },
     "execution_count": 58,
     "metadata": {},
     "output_type": "execute_result"
    }
   ],
   "source": [
    "supertype(Float32) # returns `AbstractFloat`, which is a subtype of `Real`"
   ]
  },
  {
   "cell_type": "markdown",
   "metadata": {},
   "source": [
    "An abstract type also has a super type:"
   ]
  },
  {
   "cell_type": "code",
   "execution_count": 59,
   "metadata": {
    "execution": {
     "iopub.execute_input": "2023-01-10T11:13:11.279997Z",
     "iopub.status.busy": "2023-01-10T11:13:11.279390Z",
     "iopub.status.idle": "2023-01-10T11:13:11.293855Z",
     "shell.execute_reply": "2023-01-10T11:13:11.293341Z"
    }
   },
   "outputs": [
    {
     "data": {
      "text/plain": [
       "Number"
      ]
     },
     "execution_count": 59,
     "metadata": {},
     "output_type": "execute_result"
    }
   ],
   "source": [
    "supertype(Real)"
   ]
  },
  {
   "cell_type": "markdown",
   "metadata": {},
   "source": [
    "### Type annotation and templating\n",
    "\n",
    "The types `RadialComplex` and `MutableRadialComplex` \n",
    "won't be efficient as we have not told the compiler\n",
    "the type of `r` and `θ`. For the purposes of this module,\n",
    "this is fine as we are not focussing on high performance\n",
    "computing. However, it may be of interest how to rectify this.\n",
    "\n",
    "\n",
    "We can impose a type on the field name with `::`:"
   ]
  },
  {
   "cell_type": "code",
   "execution_count": 60,
   "metadata": {
    "execution": {
     "iopub.execute_input": "2023-01-10T11:13:11.295942Z",
     "iopub.status.busy": "2023-01-10T11:13:11.295350Z",
     "iopub.status.idle": "2023-01-10T11:13:11.621536Z",
     "shell.execute_reply": "2023-01-10T11:13:11.620656Z"
    }
   },
   "outputs": [
    {
     "data": {
      "text/plain": [
       "(1.0, 0.1)"
      ]
     },
     "execution_count": 60,
     "metadata": {},
     "output_type": "execute_result"
    }
   ],
   "source": [
    "struct FastRadialComplex\n",
    "    r::Float64\n",
    "    θ::Float64\n",
    "end\n",
    "z = FastRadialComplex(1,0.1)\n",
    "z.r, z.θ"
   ]
  },
  {
   "cell_type": "markdown",
   "metadata": {},
   "source": [
    "In this case `z` is stored using precisely 128-bits.\n",
    "\n",
    "Sometimes we want to support multiple types.\n",
    "For example, we may wish to support 32-bit\n",
    "floats. This can be done as follows:"
   ]
  },
  {
   "cell_type": "code",
   "execution_count": 61,
   "metadata": {
    "execution": {
     "iopub.execute_input": "2023-01-10T11:13:11.638321Z",
     "iopub.status.busy": "2023-01-10T11:13:11.634922Z",
     "iopub.status.idle": "2023-01-10T11:13:11.925789Z",
     "shell.execute_reply": "2023-01-10T11:13:11.924938Z"
    }
   },
   "outputs": [
    {
     "data": {
      "text/plain": [
       "TemplatedRadialComplex{Float32}(1.0f0, 0.1f0)"
      ]
     },
     "execution_count": 61,
     "metadata": {},
     "output_type": "execute_result"
    }
   ],
   "source": [
    "struct TemplatedRadialComplex{T}\n",
    "    r::T\n",
    "    θ::T\n",
    "end\n",
    "z = TemplatedRadialComplex(1f0,0.1f0) # f0 creates a `Float32`"
   ]
  },
  {
   "cell_type": "markdown",
   "metadata": {},
   "source": [
    "This is stored in precisely 64-bits.\n",
    "\n",
    "\n",
    "### Relationship with C structs, heap and stack (advanced)\n",
    "\n",
    "For those familiar with C, a `struct` in Julia\n",
    "whose fields are primitive types or composite\n",
    "types built from primitive types,\n",
    "is exactly equivalent to a `struct` C,\n",
    "and can in fact be passed to C functions without\n",
    "any performance cost. Behind the scenes Julia uses the\n",
    "LLVM compiler and so C and Julia can be freely mixed.\n",
    "\n",
    "Another thing to note is that from a programmers perspective there are three types of\n",
    "memory: [registers](https://en.wikipedia.org/wiki/Processor_register),\n",
    "the [stack](https://en.wikipedia.org/wiki/Stack-based_memory_allocation)\n",
    "and the [heap](https://en.wikipedia.org/wiki/Memory_management). \n",
    "Registers only live on the CPU and are extremely fast. The stack lives in \n",
    "memory and has\n",
    "fixed memory length and is much\n",
    "faster than the heap as it avoids dynamic allocation and deallocation of memory.\n",
    "So an instance of a type with a known fixed length\n",
    "(like `FastRadialComplex`) will\n",
    "typically live either in registers or in the stack (the compiler\n",
    "sorts out the details) and be much faster than\n",
    "an instance of a type with unknown or variable length\n",
    "(like `RadialComplex` or `Vector`), which must be on the heap.\n",
    "\n",
    "## 5. Loops and branches\n",
    "\n",
    "Loops such as `for` work essentially the same as in Python. The one\n",
    "caveat is to remember we are using 1-based indexing, e.g.,\n",
    "`1:5` is a range consisting of `[1,2,3,4,5]`:"
   ]
  },
  {
   "cell_type": "code",
   "execution_count": 62,
   "metadata": {
    "execution": {
     "iopub.execute_input": "2023-01-10T11:13:11.928893Z",
     "iopub.status.busy": "2023-01-10T11:13:11.928210Z",
     "iopub.status.idle": "2023-01-10T11:13:11.973463Z",
     "shell.execute_reply": "2023-01-10T11:13:11.972727Z"
    }
   },
   "outputs": [
    {
     "name": "stdout",
     "output_type": "stream",
     "text": [
      "1\n",
      "4\n",
      "9\n",
      "16\n",
      "25\n"
     ]
    }
   ],
   "source": [
    "for k = 1:5\n",
    "    println(k^2) \n",
    "end"
   ]
  },
  {
   "cell_type": "markdown",
   "metadata": {},
   "source": [
    "There are also `while` loops:"
   ]
  },
  {
   "cell_type": "code",
   "execution_count": 63,
   "metadata": {
    "execution": {
     "iopub.execute_input": "2023-01-10T11:13:11.975860Z",
     "iopub.status.busy": "2023-01-10T11:13:11.975202Z",
     "iopub.status.idle": "2023-01-10T11:13:11.986100Z",
     "shell.execute_reply": "2023-01-10T11:13:11.985587Z"
    }
   },
   "outputs": [
    {
     "name": "stdout",
     "output_type": "stream",
     "text": [
      "x is 1 which is less than 5, incrementing!\n",
      "x is 2 which is less than 5, incrementing!\n",
      "x is 3 which is less than 5, incrementing!\n",
      "x is 4 which is less than 5, incrementing!\n"
     ]
    },
    {
     "data": {
      "text/plain": [
       "5"
      ]
     },
     "execution_count": 63,
     "metadata": {},
     "output_type": "execute_result"
    }
   ],
   "source": [
    "x = 1\n",
    "while x < 5\n",
    "    println(\"x is $x which is less than 5, incrementing!\")\n",
    "    x += 1\n",
    "end\n",
    "x"
   ]
  },
  {
   "cell_type": "markdown",
   "metadata": {},
   "source": [
    "If-elseif-else statements look like:"
   ]
  },
  {
   "cell_type": "code",
   "execution_count": 64,
   "metadata": {
    "execution": {
     "iopub.execute_input": "2023-01-10T11:13:11.988457Z",
     "iopub.status.busy": "2023-01-10T11:13:11.987632Z",
     "iopub.status.idle": "2023-01-10T11:13:11.993694Z",
     "shell.execute_reply": "2023-01-10T11:13:11.993271Z"
    }
   },
   "outputs": [
    {
     "name": "stdout",
     "output_type": "stream",
     "text": [
      "it's odd\n"
     ]
    }
   ],
   "source": [
    "x = 5\n",
    "if isodd(x)\n",
    "    println(\"it's odd\")\n",
    "elseif x == 2\n",
    "    println(\"it's 2\")\n",
    "else\n",
    "    println(\"it's even\")\n",
    "end"
   ]
  },
  {
   "cell_type": "markdown",
   "metadata": {},
   "source": [
    "## 6. Functions\n",
    "\n",
    "Functions are created in a number of ways.\n",
    "The most standard way is using the keyword `function`, \n",
    "followed by a name for the function, \n",
    "and in parentheses a list of arguments.  \n",
    "Let's make a function that takes in a \n",
    "single number $x$ and returns $x^2$."
   ]
  },
  {
   "cell_type": "code",
   "execution_count": 65,
   "metadata": {
    "execution": {
     "iopub.execute_input": "2023-01-10T11:13:11.995649Z",
     "iopub.status.busy": "2023-01-10T11:13:11.995083Z",
     "iopub.status.idle": "2023-01-10T11:13:12.002108Z",
     "shell.execute_reply": "2023-01-10T11:13:12.001289Z"
    }
   },
   "outputs": [
    {
     "data": {
      "text/plain": [
       "(4, 9)"
      ]
     },
     "execution_count": 65,
     "metadata": {},
     "output_type": "execute_result"
    }
   ],
   "source": [
    "function sq(x)\n",
    "   x^2 \n",
    "end\n",
    "sq(2), sq(3)"
   ]
  },
  {
   "cell_type": "markdown",
   "metadata": {},
   "source": [
    "There is also a convenient syntax for defining functions on\n",
    "one line, e.g., we can also write"
   ]
  },
  {
   "cell_type": "code",
   "execution_count": 66,
   "metadata": {
    "execution": {
     "iopub.execute_input": "2023-01-10T11:13:12.004416Z",
     "iopub.status.busy": "2023-01-10T11:13:12.003834Z",
     "iopub.status.idle": "2023-01-10T11:13:12.243718Z",
     "shell.execute_reply": "2023-01-10T11:13:12.242940Z"
    }
   },
   "outputs": [
    {
     "data": {
      "text/plain": [
       "sq (generic function with 1 method)"
      ]
     },
     "execution_count": 66,
     "metadata": {},
     "output_type": "execute_result"
    }
   ],
   "source": [
    "sq(x) = x^2"
   ]
  },
  {
   "cell_type": "markdown",
   "metadata": {},
   "source": [
    "Multiple arguments to the function can be included with `,`.  \n",
    "Here's a function that takes in 3 arguments and returns the average.  \n",
    "(We write it on 3 lines only to show that functions can take multiple lines.)"
   ]
  },
  {
   "cell_type": "code",
   "execution_count": 67,
   "metadata": {
    "execution": {
     "iopub.execute_input": "2023-01-10T11:13:12.246536Z",
     "iopub.status.busy": "2023-01-10T11:13:12.245953Z",
     "iopub.status.idle": "2023-01-10T11:13:12.252820Z",
     "shell.execute_reply": "2023-01-10T11:13:12.252308Z"
    }
   },
   "outputs": [
    {
     "data": {
      "text/plain": [
       "2.0"
      ]
     },
     "execution_count": 67,
     "metadata": {},
     "output_type": "execute_result"
    }
   ],
   "source": [
    "function av(x, y, z)\n",
    "    ret = x + y\n",
    "    ret = ret + z\n",
    "    ret/3\n",
    "end\n",
    "av(1, 2, 3)"
   ]
  },
  {
   "cell_type": "markdown",
   "metadata": {},
   "source": [
    "Variables live in different scopes.  In the previous example, `x`, `y`, `z` and `ret` are _local variables_: \n",
    "they only exist inside of `av`.  \n",
    "So this means `x` and `z` are _not_ the same as our complex number `x` and `z` defined above.\n",
    "\n",
    "**Warning**: if you reference variables not defined inside the function, they will use the outer scope definition.  \n",
    "The following example shows that if we mistype the first argument as `xx`, \n",
    "then it takes on the outer scope definition `x`, which is a complex number:"
   ]
  },
  {
   "cell_type": "code",
   "execution_count": 68,
   "metadata": {
    "execution": {
     "iopub.execute_input": "2023-01-10T11:13:12.254957Z",
     "iopub.status.busy": "2023-01-10T11:13:12.254265Z",
     "iopub.status.idle": "2023-01-10T11:13:12.354754Z",
     "shell.execute_reply": "2023-01-10T11:13:12.354161Z"
    }
   },
   "outputs": [
    {
     "data": {
      "text/plain": [
       "av2 (generic function with 1 method)"
      ]
     },
     "execution_count": 68,
     "metadata": {},
     "output_type": "execute_result"
    }
   ],
   "source": [
    "function av2(xx, y, z)\n",
    "    (x + y + z)/3\n",
    "end"
   ]
  },
  {
   "cell_type": "markdown",
   "metadata": {},
   "source": [
    "You should almost never use this feature!!  \n",
    "We should ideally be able to predict the output of a function from knowing just the inputs.\n",
    "\n",
    "**Example**\n",
    "Let's create a function that calculates the average of the entries of a vector."
   ]
  },
  {
   "cell_type": "code",
   "execution_count": 69,
   "metadata": {
    "execution": {
     "iopub.execute_input": "2023-01-10T11:13:12.358011Z",
     "iopub.status.busy": "2023-01-10T11:13:12.357201Z",
     "iopub.status.idle": "2023-01-10T11:13:12.372096Z",
     "shell.execute_reply": "2023-01-10T11:13:12.371631Z"
    }
   },
   "outputs": [
    {
     "data": {
      "text/plain": [
       "3.5"
      ]
     },
     "execution_count": 69,
     "metadata": {},
     "output_type": "execute_result"
    }
   ],
   "source": [
    "function vecaverage(v)\n",
    "    ret=0\n",
    "    for k = 1:length(v)\n",
    "        ret = ret + v[k]\n",
    "    end\n",
    "    ret/length(v)\n",
    "end\n",
    "vecaverage([1,5,2,3,8,2])"
   ]
  },
  {
   "cell_type": "markdown",
   "metadata": {},
   "source": [
    "Julia has an inbuilt `sum` command that we can use to check our code:"
   ]
  },
  {
   "cell_type": "code",
   "execution_count": 70,
   "metadata": {
    "execution": {
     "iopub.execute_input": "2023-01-10T11:13:12.375436Z",
     "iopub.status.busy": "2023-01-10T11:13:12.374780Z",
     "iopub.status.idle": "2023-01-10T11:13:12.385807Z",
     "shell.execute_reply": "2023-01-10T11:13:12.385260Z"
    }
   },
   "outputs": [
    {
     "data": {
      "text/plain": [
       "3.5"
      ]
     },
     "execution_count": 70,
     "metadata": {},
     "output_type": "execute_result"
    }
   ],
   "source": [
    "sum([1,5,2,3,8,2])/6"
   ]
  },
  {
   "cell_type": "markdown",
   "metadata": {},
   "source": [
    "### Functions with type signatures\n",
    "\n",
    "functions can be defined only for specific types using `::` after the variable name.\n",
    "The same function name can be used with different type signatures.  \n",
    "\n",
    "The following defines a function `mydot` that calculates the dot product, with a definition changing\n",
    "depending on whether it is an `Integer` or a `Vector`.  \n",
    "Note that `Integer` is an abstract type that includes all integer types:\n",
    "`mydot` is defined for pairs of `Int64`'s, `Int32`'s, etc."
   ]
  },
  {
   "cell_type": "code",
   "execution_count": 71,
   "metadata": {
    "execution": {
     "iopub.execute_input": "2023-01-10T11:13:12.388059Z",
     "iopub.status.busy": "2023-01-10T11:13:12.387322Z",
     "iopub.status.idle": "2023-01-10T11:13:12.394713Z",
     "shell.execute_reply": "2023-01-10T11:13:12.394273Z"
    }
   },
   "outputs": [
    {
     "data": {
      "text/plain": [
       "30"
      ]
     },
     "execution_count": 71,
     "metadata": {},
     "output_type": "execute_result"
    }
   ],
   "source": [
    "function mydot(a::Integer, b::Integer)\n",
    "    a*b\n",
    "end\n",
    "\n",
    "function mydot(a::AbstractVector, b::AbstractVector)\n",
    "    # we assume length(a)  == length(b)\n",
    "    ret = 0\n",
    "    for k = 1:length(a)\n",
    "        ret = ret + a[k]*b[k]\n",
    "    end\n",
    "    ret\n",
    "end\n",
    "\n",
    "mydot(5, 6)  # calls the first definition"
   ]
  },
  {
   "cell_type": "code",
   "execution_count": 72,
   "metadata": {
    "execution": {
     "iopub.execute_input": "2023-01-10T11:13:12.396700Z",
     "iopub.status.busy": "2023-01-10T11:13:12.396081Z",
     "iopub.status.idle": "2023-01-10T11:13:12.653865Z",
     "shell.execute_reply": "2023-01-10T11:13:12.653398Z"
    }
   },
   "outputs": [
    {
     "data": {
      "text/plain": [
       "30"
      ]
     },
     "execution_count": 72,
     "metadata": {},
     "output_type": "execute_result"
    }
   ],
   "source": [
    "mydot(Int8(5), Int8(6))   # also calls the first definition"
   ]
  },
  {
   "cell_type": "code",
   "execution_count": 73,
   "metadata": {
    "execution": {
     "iopub.execute_input": "2023-01-10T11:13:12.656238Z",
     "iopub.status.busy": "2023-01-10T11:13:12.655577Z",
     "iopub.status.idle": "2023-01-10T11:13:12.673801Z",
     "shell.execute_reply": "2023-01-10T11:13:12.673184Z"
    }
   },
   "outputs": [
    {
     "data": {
      "text/plain": [
       "32"
      ]
     },
     "execution_count": 73,
     "metadata": {},
     "output_type": "execute_result"
    }
   ],
   "source": [
    "mydot(1:3, [4,5,6])    # calls the second definition"
   ]
  },
  {
   "cell_type": "markdown",
   "metadata": {},
   "source": [
    "We should actually check that the lengths of `a` and `b` match.  \n",
    "Let's rewrite `mydot` using an `if`, `else` statement.  The following code only does \n",
    "the for loop if the length of a is equal to the length of b, otherwise, it throws an error.\n",
    "\n",
    "If we name something with the exact same signature (name, and argument types),\n",
    "previous definitions get overriden. Here we correct the implementation of `mydot`\n",
    "to throw an error if the lengths of the inputs do not match:"
   ]
  },
  {
   "cell_type": "code",
   "execution_count": 74,
   "metadata": {
    "execution": {
     "iopub.execute_input": "2023-01-10T11:13:12.677462Z",
     "iopub.status.busy": "2023-01-10T11:13:12.676605Z",
     "iopub.status.idle": "2023-01-10T11:13:12.754383Z",
     "shell.execute_reply": "2023-01-10T11:13:12.753774Z"
    }
   },
   "outputs": [
    {
     "ename": "LoadError",
     "evalue": "arguments have different lengths",
     "output_type": "error",
     "traceback": [
      "arguments have different lengths",
      "",
      "Stacktrace:",
      " [1] error(s::String)",
      "   @ Base ./error.jl:35",
      " [2] mydot(a::Vector{Int64}, b::Vector{Int64})",
      "   @ Main ./In[74]:8",
      " [3] top-level scope",
      "   @ In[74]:12"
     ]
    }
   ],
   "source": [
    "function mydot(a::AbstractVector, b::AbstractVector)\n",
    "    ret=0    \n",
    "    if length(a) == length(b)\n",
    "        for k = 1:length(a)\n",
    "            ret = ret + a[k]*b[k]\n",
    "        end\n",
    "    else\n",
    "        error(\"arguments have different lengths\") \n",
    "    end\n",
    "    ret    \n",
    "end\n",
    "mydot([1,2,3], [5,6,7,8])"
   ]
  },
  {
   "cell_type": "markdown",
   "metadata": {},
   "source": [
    "### Anonymous (lambda) functions\n",
    "\n",
    "Just like Python it is possible to make anonymous functions,\n",
    "with two variants on syntax:"
   ]
  },
  {
   "cell_type": "code",
   "execution_count": 75,
   "metadata": {
    "execution": {
     "iopub.execute_input": "2023-01-10T11:13:12.758718Z",
     "iopub.status.busy": "2023-01-10T11:13:12.757350Z",
     "iopub.status.idle": "2023-01-10T11:13:12.882629Z",
     "shell.execute_reply": "2023-01-10T11:13:12.882091Z"
    }
   },
   "outputs": [
    {
     "data": {
      "text/plain": [
       "#9 (generic function with 1 method)"
      ]
     },
     "execution_count": 75,
     "metadata": {},
     "output_type": "execute_result"
    }
   ],
   "source": [
    "f = x -> x^2\n",
    "g = function(x)\n",
    "    x^2\n",
    "end"
   ]
  },
  {
   "cell_type": "markdown",
   "metadata": {},
   "source": [
    "There is not much difference between named and anonymous functions,\n",
    "both are compiled in the same manner. The only difference is\n",
    "named functions are in a sense \"permanent\". One can essentially think of\n",
    "named functions as \"global constant anonymous functions\".\n",
    "\n",
    "### Tuples\n",
    "\n",
    "`Tuple`s are similar to vectors but written with the notation `(x,y,z)` instead of `[x,y,z]`. \n",
    "They allow the storage of _different types_.  For example:"
   ]
  },
  {
   "cell_type": "code",
   "execution_count": 76,
   "metadata": {
    "execution": {
     "iopub.execute_input": "2023-01-10T11:13:12.885065Z",
     "iopub.status.busy": "2023-01-10T11:13:12.884288Z",
     "iopub.status.idle": "2023-01-10T11:13:13.231589Z",
     "shell.execute_reply": "2023-01-10T11:13:13.231146Z"
    }
   },
   "outputs": [
    {
     "data": {
      "text/plain": [
       "(1, 2.0, \"hi\")"
      ]
     },
     "execution_count": 76,
     "metadata": {},
     "output_type": "execute_result"
    }
   ],
   "source": [
    "t = (1,2.0,\"hi\")"
   ]
  },
  {
   "cell_type": "markdown",
   "metadata": {},
   "source": [
    "On the surface, this is very similar to a `Vector{Any}`:"
   ]
  },
  {
   "cell_type": "code",
   "execution_count": 77,
   "metadata": {
    "execution": {
     "iopub.execute_input": "2023-01-10T11:13:13.233611Z",
     "iopub.status.busy": "2023-01-10T11:13:13.233046Z",
     "iopub.status.idle": "2023-01-10T11:13:13.270316Z",
     "shell.execute_reply": "2023-01-10T11:13:13.269825Z"
    }
   },
   "outputs": [
    {
     "data": {
      "text/plain": [
       "3-element Vector{Any}:\n",
       " 1\n",
       " 2.0\n",
       "  \"hi\""
      ]
     },
     "execution_count": 77,
     "metadata": {},
     "output_type": "execute_result"
    }
   ],
   "source": [
    "v=[1,2.0,\"hi\"]"
   ]
  },
  {
   "cell_type": "markdown",
   "metadata": {},
   "source": [
    "The main difference is that a `Tuple` knows the type of its arguments:"
   ]
  },
  {
   "cell_type": "code",
   "execution_count": 78,
   "metadata": {
    "execution": {
     "iopub.execute_input": "2023-01-10T11:13:13.273101Z",
     "iopub.status.busy": "2023-01-10T11:13:13.272170Z",
     "iopub.status.idle": "2023-01-10T11:13:13.286792Z",
     "shell.execute_reply": "2023-01-10T11:13:13.286349Z"
    }
   },
   "outputs": [
    {
     "data": {
      "text/plain": [
       "Tuple{Int64, Float64, String}"
      ]
     },
     "execution_count": 78,
     "metadata": {},
     "output_type": "execute_result"
    }
   ],
   "source": [
    "typeof(t)"
   ]
  },
  {
   "cell_type": "markdown",
   "metadata": {},
   "source": [
    "The main benefit of tuples for us is that they provide a convenient\n",
    "way to return multiple arguments from a function. \n",
    "For example, the following returns both `cos(x)` and `x^2`\n",
    "from a single function:"
   ]
  },
  {
   "cell_type": "code",
   "execution_count": 79,
   "metadata": {
    "execution": {
     "iopub.execute_input": "2023-01-10T11:13:13.289230Z",
     "iopub.status.busy": "2023-01-10T11:13:13.288622Z",
     "iopub.status.idle": "2023-01-10T11:13:13.647393Z",
     "shell.execute_reply": "2023-01-10T11:13:13.646959Z"
    }
   },
   "outputs": [
    {
     "data": {
      "text/plain": [
       "(0.28366218546322625, 25)"
      ]
     },
     "execution_count": 79,
     "metadata": {},
     "output_type": "execute_result"
    }
   ],
   "source": [
    "function mytuplereturn(x)\n",
    "    (cos(x), x^2)\n",
    "end\n",
    "mytuplereturn(5)"
   ]
  },
  {
   "cell_type": "markdown",
   "metadata": {},
   "source": [
    "We can also employ the convenient syntax to create two variables at once:"
   ]
  },
  {
   "cell_type": "code",
   "execution_count": 80,
   "metadata": {
    "execution": {
     "iopub.execute_input": "2023-01-10T11:13:13.649555Z",
     "iopub.status.busy": "2023-01-10T11:13:13.649005Z",
     "iopub.status.idle": "2023-01-10T11:13:13.663282Z",
     "shell.execute_reply": "2023-01-10T11:13:13.662814Z"
    }
   },
   "outputs": [
    {
     "data": {
      "text/plain": [
       "(0.28366218546322625, 25)"
      ]
     },
     "execution_count": 80,
     "metadata": {},
     "output_type": "execute_result"
    }
   ],
   "source": [
    "x,y = mytuplereturn(5)"
   ]
  },
  {
   "cell_type": "markdown",
   "metadata": {},
   "source": [
    "## Modules, Packages, and Plotting\n",
    "\n",
    "Julia, like Python, has modules and packages.\n",
    "For example to load support for linear algebra functionality\n",
    "like `norm` and `det`, we need to load the `LinearAlgebra` module:"
   ]
  },
  {
   "cell_type": "code",
   "execution_count": 81,
   "metadata": {
    "execution": {
     "iopub.execute_input": "2023-01-10T11:13:13.665507Z",
     "iopub.status.busy": "2023-01-10T11:13:13.664948Z",
     "iopub.status.idle": "2023-01-10T11:13:14.204382Z",
     "shell.execute_reply": "2023-01-10T11:13:14.203922Z"
    }
   },
   "outputs": [
    {
     "data": {
      "text/plain": [
       "(3.7416573867739413, -2.0)"
      ]
     },
     "execution_count": 81,
     "metadata": {},
     "output_type": "execute_result"
    }
   ],
   "source": [
    "using LinearAlgebra\n",
    "norm([1,2,3]), det([1 2; 3 4])"
   ]
  },
  {
   "cell_type": "markdown",
   "metadata": {},
   "source": [
    "It is fairly straightword to create ones own modules and packages, however,\n",
    "we will not need modules in this....module.\n",
    "\n",
    "### Plotting\n",
    "\n",
    "Some important functionality such as plotting requires non-built in\n",
    "packages. There are many packages such as [PyPlot.jl](https://github.com/JuliaPy/PyPlot.jl),\n",
    "which wraps Python's [matplotlib](https://matplotlib.org) and\n",
    "[Makie.jl](https://github.com/JuliaPlots/Makie.jl), which is a state-of-the-art\n",
    "GPU based 3D plotting package. We will use [Plots.jl](https://github.com/JuliaPlots/Plots.jl),\n",
    "which is an umbrella package that supports different backends.\n",
    "\n",
    "For example, we can plot a simple function as follows:"
   ]
  },
  {
   "cell_type": "code",
   "execution_count": 82,
   "metadata": {
    "execution": {
     "iopub.execute_input": "2023-01-10T11:13:14.212092Z",
     "iopub.status.busy": "2023-01-10T11:13:14.210440Z",
     "iopub.status.idle": "2023-01-10T11:13:28.032532Z",
     "shell.execute_reply": "2023-01-10T11:13:28.032099Z"
    }
   },
   "outputs": [
    {
     "ename": "LoadError",
     "evalue": "ArgumentError: Package Plots [91a5bcdd-55d7-5caf-9e0b-520d859cae80] is required but does not seem to be installed:\n - Run `Pkg.instantiate()` to install all recorded dependencies.\n",
     "output_type": "error",
     "traceback": [
      "ArgumentError: Package Plots [91a5bcdd-55d7-5caf-9e0b-520d859cae80] is required but does not seem to be installed:\n - Run `Pkg.instantiate()` to install all recorded dependencies.\n",
      "",
      "Stacktrace:",
      " [1] _require(pkg::Base.PkgId)",
      "   @ Base ./loading.jl:1306",
      " [2] _require_prelocked(uuidkey::Base.PkgId)",
      "   @ Base ./loading.jl:1200",
      " [3] macro expansion",
      "   @ ./loading.jl:1180 [inlined]",
      " [4] macro expansion",
      "   @ ./lock.jl:223 [inlined]",
      " [5] require(into::Module, mod::Symbol)",
      "   @ Base ./loading.jl:1144"
     ]
    }
   ],
   "source": [
    "using Plots\n",
    "x = range(-1, 1; length=1000) # Create a range of a 1000 evenly spaced numbers between -1 and 1\n",
    "y = cos.(x) # Create a new vector with `cos` applied to each entry of `x`\n",
    "plot(x, y; label=\"cos(x)\")\n",
    "plot!(x, 2y; label=\"2cos(x)\")"
   ]
  },
  {
   "cell_type": "markdown",
   "metadata": {},
   "source": [
    "Note the `!` is  just a convention: any function that modifies\n",
    "its input or global state should have `!` at the end of its name.\n",
    "\n",
    "\n",
    "### Installing packages (advanced)\n",
    "\n",
    "If you choose to use Julia on your own machine, you may need to install\n",
    "packages. This can be done by typing the following, either in Jupyter or in the REPL:\n",
    "`] add Plots`."
   ]
  },
  {
   "cell_type": "code",
   "execution_count": null,
   "metadata": {},
   "outputs": [],
   "source": []
  },
  {
   "cell_type": "code",
   "execution_count": null,
   "metadata": {},
   "outputs": [],
   "source": []
  }
 ],
 "metadata": {
  "kernelspec": {
   "display_name": "Julia 1.8.5",
   "language": "julia",
   "name": "julia-1.8"
  },
  "language_info": {
   "file_extension": ".jl",
   "mimetype": "application/julia",
   "name": "julia",
   "version": "1.8.5"
  }
 },
 "nbformat": 4,
 "nbformat_minor": 2
}
